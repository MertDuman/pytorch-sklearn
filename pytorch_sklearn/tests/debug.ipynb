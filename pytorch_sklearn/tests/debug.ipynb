{
 "cells": [
  {
   "cell_type": "code",
   "execution_count": 1,
   "metadata": {
    "ExecuteTime": {
     "end_time": "2023-09-11T18:02:44.024015Z",
     "start_time": "2023-09-11T18:02:40.927215100Z"
    }
   },
   "outputs": [],
   "source": [
    "import numpy as np\n",
    "import torch\n",
    "import torch.nn as nn\n",
    "import torch.nn.functional as F\n",
    "import torchvision.transforms as tvt\n",
    "import torch.optim.lr_scheduler as tlrs\n",
    "from torch.utils.data import DataLoader, Dataset\n",
    "\n",
    "import matplotlib.pyplot as plt\n",
    "\n",
    "from pytorch_sklearn.neural_network.neural_network import NeuralNetwork\n",
    "from pytorch_sklearn.neural_network.generative_network import CycleGAN, R2CGAN\n",
    "from pytorch_sklearn.callbacks.predefined import Verbose, History, EarlyStopping\n",
    "from pytorch_sklearn.utils.progress_bar import print_progress\n",
    "from pytorch_sklearn.frameworks.lr_schedulers import *\n",
    "\n",
    "from pytorch_sklearn.neural_network.diffusion_network import DiffusionUtils\n",
    "\n",
    "from sonn.building_blocks import Downsample2d, Upsample2d\n",
    "from sonn.norm_layers import LayerNormNLP2d\n",
    "from sonn.superonn_final import SuperONN2d\n",
    "\n",
    "from PIL import Image\n",
    "\n",
    "from collections import Iterable as CIterable\n",
    "from typing import Iterable, Union, List\n",
    "from pytorch_sklearn.utils.func_utils import to_device"
   ]
  },
  {
   "cell_type": "code",
   "execution_count": 2,
   "metadata": {},
   "outputs": [],
   "source": [
    "mse = nn.MSELoss(reduction='none')\n",
    "mse = mse.to('cuda')"
   ]
  },
  {
   "cell_type": "code",
   "execution_count": 3,
   "metadata": {},
   "outputs": [
    {
     "data": {
      "text/plain": [
       "tensor([0.2180, 0.0840, 0.2942, 1.5793, 0.7484])"
      ]
     },
     "execution_count": 3,
     "metadata": {},
     "output_type": "execute_result"
    }
   ],
   "source": [
    "mse(torch.randn(5), torch.randn(5))"
   ]
  },
  {
   "cell_type": "code",
   "execution_count": 4,
   "metadata": {},
   "outputs": [
    {
     "data": {
      "text/plain": [
       "[tensor([-0.6657,  0.5014, -0.7138,  0.4761, -1.3332], device='cuda:0'),\n",
       " 10,\n",
       " tensor([-0.4121,  0.8704], device='cuda:0')]"
      ]
     },
     "execution_count": 4,
     "metadata": {},
     "output_type": "execute_result"
    }
   ],
   "source": [
    "to_device([torch.randn(5), 10, torch.randn(2)], 'cuda')"
   ]
  },
  {
   "cell_type": "code",
   "execution_count": 5,
   "metadata": {
    "ExecuteTime": {
     "end_time": "2023-09-11T18:14:28.745165200Z",
     "start_time": "2023-09-11T18:14:28.722709500Z"
    },
    "collapsed": false
   },
   "outputs": [],
   "source": [
    "optim = torch.optim.Adam([torch.randn(1)], lr=1)\n",
    "sched = tlrs.LinearLR(optim, start_factor=0.2, end_factor=0, total_iters=3)"
   ]
  },
  {
   "cell_type": "code",
   "execution_count": 6,
   "metadata": {
    "ExecuteTime": {
     "end_time": "2023-09-11T18:14:44.091314400Z",
     "start_time": "2023-09-11T18:14:44.072829700Z"
    },
    "collapsed": false
   },
   "outputs": [],
   "source": [
    "optim = torch.optim.Adam([torch.randn(1)], lr=1)\n",
    "sched = LinearLRScheduler(optim, 2, start_factor=0.2, end_factor=0, interval=[2, -1], store_lrs=True)"
   ]
  },
  {
   "cell_type": "code",
   "execution_count": 7,
   "metadata": {
    "ExecuteTime": {
     "end_time": "2023-09-11T18:14:47.368305200Z",
     "start_time": "2023-09-11T18:14:47.352903600Z"
    },
    "collapsed": false
   },
   "outputs": [
    {
     "ename": "NameError",
     "evalue": "name 'lrs' is not defined",
     "output_type": "error",
     "traceback": [
      "\u001b[1;31m---------------------------------------------------------------------------\u001b[0m",
      "\u001b[1;31mNameError\u001b[0m                                 Traceback (most recent call last)",
      "\u001b[1;32mc:\\User Files\\PythonLibraries\\deeplearning\\pytorch_sklearn_library\\pytorch_sklearn\\tests\\debug.ipynb Cell 7\u001b[0m line \u001b[0;36m1\n\u001b[1;32m----> <a href='vscode-notebook-cell:/c%3A/User%20Files/PythonLibraries/deeplearning/pytorch_sklearn_library/pytorch_sklearn/tests/debug.ipynb#W6sZmlsZQ%3D%3D?line=0'>1</a>\u001b[0m lrs\n",
      "\u001b[1;31mNameError\u001b[0m: name 'lrs' is not defined"
     ]
    }
   ],
   "source": [
    "lrs"
   ]
  },
  {
   "cell_type": "code",
   "execution_count": null,
   "metadata": {
    "ExecuteTime": {
     "end_time": "2023-09-11T18:14:46.362165Z",
     "start_time": "2023-09-11T18:14:46.244482200Z"
    },
    "collapsed": false
   },
   "outputs": [],
   "source": [
    "lrs = [optim.param_groups[0]['lr']]\n",
    "for i in range(10):\n",
    "    try:\n",
    "        sched.step_and_store_lr()\n",
    "    except:\n",
    "        sched.step()\n",
    "    lrs.append(optim.param_groups[0]['lr'])\n",
    "    \n",
    "# plt.plot(sched.lrs)\n",
    "# plt.show()\n",
    "plt.plot(lrs)"
   ]
  },
  {
   "cell_type": "code",
   "execution_count": null,
   "metadata": {
    "ExecuteTime": {
     "start_time": "2023-09-11T17:47:56.208666Z"
    },
    "collapsed": false
   },
   "outputs": [],
   "source": [
    "du = DiffusionUtils(20, 'linear')\n",
    "du.beta"
   ]
  },
  {
   "cell_type": "code",
   "execution_count": null,
   "metadata": {
    "collapsed": false
   },
   "outputs": [],
   "source": [
    "t = 5"
   ]
  },
  {
   "cell_type": "code",
   "execution_count": null,
   "metadata": {
    "collapsed": false
   },
   "outputs": [],
   "source": [
    "du.beta[t]"
   ]
  },
  {
   "cell_type": "code",
   "execution_count": null,
   "metadata": {
    "collapsed": false
   },
   "outputs": [],
   "source": [
    "((1 - du.alpha_hat[t-1]) / (1 - du.alpha_hat[t]) * du.beta[t])"
   ]
  },
  {
   "cell_type": "code",
   "execution_count": 8,
   "metadata": {},
   "outputs": [],
   "source": [
    "class SimpleCNN(nn.Module):\n",
    "    def __init__(self):\n",
    "        super().__init__()\n",
    "        self.conv1 = nn.Conv2d(3, 32, kernel_size=3, padding=1)\n",
    "        self.conv2 = nn.Conv2d(32, 32, kernel_size=3, padding=1)\n",
    "        self.conv3 = nn.Conv2d(32, 3, kernel_size=3, padding=1)\n",
    "\n",
    "    def forward(self, x):\n",
    "        x = F.relu(self.conv1(x))\n",
    "        x = F.relu(self.conv2(x))\n",
    "        return self.conv3(x)\n",
    "    \n",
    "class SimpleR2CCNN(nn.Module):\n",
    "    def __init__(self):\n",
    "        super().__init__()\n",
    "        self.conv1 = nn.Conv2d(3, 32, kernel_size=3, padding=1)\n",
    "        self.conv2 = nn.Conv2d(32, 32, kernel_size=3, padding=1)\n",
    "        self.conv3 = nn.Conv2d(32, 3, kernel_size=3, padding=1)\n",
    "\n",
    "        self.maxpool1 = nn.AdaptiveMaxPool2d(1)\n",
    "        self.fc = nn.Linear(3, 2)\n",
    "\n",
    "    def forward(self, x):\n",
    "        x = F.relu(self.conv1(x))\n",
    "        x = F.relu(self.conv2(x))\n",
    "        y =  self.conv3(x)\n",
    "\n",
    "        c = self.maxpool1(y)\n",
    "        c = c.view(c.size(0), -1)\n",
    "        c = self.fc(c)\n",
    "        return y, c\n",
    "    \n",
    "class KillerCNN(nn.Module):\n",
    "    def __init__(self):\n",
    "        super().__init__()\n",
    "        self.conv1 = nn.Conv2d(3, 32, kernel_size=3, padding=1)\n",
    "        self.ds1   = Downsample2d(32)  # 32 -> 64\n",
    "        self.conv2 = nn.Conv2d(64, 64, kernel_size=3, padding=1)\n",
    "        self.ds2   = Downsample2d(64)  # 64 -> 128\n",
    "        self.conv3 = nn.Conv2d(128, 128, kernel_size=3, padding=1)\n",
    "        self.up2   = Upsample2d(128)   # 128 -> 64\n",
    "        self.conv4 = nn.Conv2d(64, 64, kernel_size=3, padding=1)\n",
    "        self.up1   = Upsample2d(64)    # 64 -> 32\n",
    "        self.conv5 = nn.Conv2d(32, 3, kernel_size=3, padding=1)\n",
    "\n",
    "    def forward(self, x):\n",
    "        x = F.relu(self.conv1(x))\n",
    "        x = self.ds1(x)\n",
    "        x = F.relu(self.conv2(x))\n",
    "        x = self.ds2(x)\n",
    "        x = F.relu(self.conv3(x))\n",
    "        x = self.up2(x)\n",
    "        x = F.relu(self.conv4(x))\n",
    "        x = self.up1(x)\n",
    "        return self.conv5(x)\n",
    "    \n",
    "class KillerONN(nn.Module):\n",
    "    def __init__(self):\n",
    "        super().__init__()\n",
    "        self.conv1 = SuperONN2d(3, 32, q=3, kernel_size=3, padding=1)\n",
    "        self.ds1   = Downsample2d(32)  # 32 -> 64\n",
    "        self.ln1   = LayerNormNLP2d(64)\n",
    "        self.conv2 = SuperONN2d(64, 64, q=3,  kernel_size=3, padding=1)\n",
    "        self.ds2   = Downsample2d(64)  # 64 -> 128\n",
    "        self.ln2   = LayerNormNLP2d(128)\n",
    "        self.conv3 = SuperONN2d(128, 128, q=3, kernel_size=3, padding=1)\n",
    "        self.up2   = Upsample2d(128)   # 128 -> 64\n",
    "        self.ln3   = LayerNormNLP2d(64)\n",
    "        self.conv4 = SuperONN2d(64, 64, q=3,  kernel_size=3, padding=1)\n",
    "        self.up1   = Upsample2d(64)    # 64 -> 32\n",
    "        self.ln4   = LayerNormNLP2d(32)\n",
    "        self.conv5 = SuperONN2d(32, 3, q=3, kernel_size=3, padding=1)\n",
    "\n",
    "    def forward(self, x):\n",
    "        x = F.relu(self.conv1(x))\n",
    "        x = self.ds1(x)\n",
    "        x = self.ln1(x)\n",
    "        x = F.relu(self.conv2(x))\n",
    "        x = self.ds2(x)\n",
    "        x = self.ln2(x)\n",
    "        x = F.relu(self.conv3(x))\n",
    "        x = self.up2(x)\n",
    "        x = self.ln3(x)\n",
    "        x = F.relu(self.conv4(x))\n",
    "        x = self.up1(x)\n",
    "        x = self.ln4(x)\n",
    "        return self.conv5(x)\n",
    "    \n",
    "class SimpleDiscriminator(nn.Module):\n",
    "    def __init__(self):\n",
    "        super().__init__()\n",
    "        self.conv1 = nn.Conv2d(3, 32, kernel_size=3, padding=1)\n",
    "        self.maxpool1 = nn.MaxPool2d(kernel_size=4)\n",
    "        self.conv2 = nn.Conv2d(32, 32, kernel_size=3, padding=1)\n",
    "        self.maxpool2 = nn.MaxPool2d(kernel_size=4)\n",
    "        self.conv3 = nn.Conv2d(32, 1, kernel_size=3, padding=1)\n",
    "        self.maxpool3 = nn.MaxPool2d(kernel_size=2)\n",
    "\n",
    "    def forward(self, x):\n",
    "        x = F.relu(self.maxpool1(self.conv1(x)))\n",
    "        x = F.relu(self.maxpool2(self.conv2(x)))\n",
    "        x = self.maxpool3(self.conv3(x))\n",
    "        return x.view(-1, 1)"
   ]
  },
  {
   "cell_type": "code",
   "execution_count": 9,
   "metadata": {
    "collapsed": false
   },
   "outputs": [],
   "source": [
    "class LambdaWarmUpCosineScheduler:\n",
    "    \"\"\"\n",
    "    note: use with a base_lr of 1.0\n",
    "    \"\"\"\n",
    "    def __init__(self, warm_up_steps, lr_min, lr_max, lr_start, max_decay_steps):\n",
    "        self.lr_warm_up_steps = warm_up_steps\n",
    "        self.lr_start = lr_start\n",
    "        self.lr_min = lr_min\n",
    "        self.lr_max = lr_max\n",
    "        self.lr_max_decay_steps = max_decay_steps\n",
    "        self.last_lr = 0.\n",
    "\n",
    "    def schedule(self, n):\n",
    "        if n < self.lr_warm_up_steps:\n",
    "            lr = (self.lr_max - self.lr_start) / self.lr_warm_up_steps * n + self.lr_start\n",
    "            self.last_lr = lr\n",
    "            return lr\n",
    "        else:\n",
    "            t = (n - self.lr_warm_up_steps) / (self.lr_max_decay_steps - self.lr_warm_up_steps)\n",
    "            t = min(t, 1.0)\n",
    "            lr = self.lr_min + 0.5 * (self.lr_max - self.lr_min) * (\n",
    "                    1 + np.cos(t * np.pi))\n",
    "            self.last_lr = lr\n",
    "            return lr\n",
    "\n",
    "    def __call__(self, n, **kwargs):\n",
    "        return self.schedule(n,**kwargs)"
   ]
  },
  {
   "cell_type": "code",
   "execution_count": 10,
   "metadata": {
    "collapsed": false
   },
   "outputs": [],
   "source": [
    "lwcosscheduler = LambdaWarmUpCosineScheduler(500, 0.0001, 0.001, 0.0001, 2000)\n",
    "# coswarm = CosineWarmupScheduler(torch.optim.Adam([torch.randn(1)], lr=0.001), 1000, 2000)\n",
    "mycoswarm = CosineWarmupLRScheduler(torch.optim.Adam([torch.randn(1)], lr=0.001), 500, 0.0001, 0.001, 0.0001, 2000, store_lrs=True)"
   ]
  },
  {
   "cell_type": "code",
   "execution_count": 11,
   "metadata": {
    "collapsed": false
   },
   "outputs": [
    {
     "name": "stderr",
     "output_type": "stream",
     "text": [
      "c:\\Python\\Python38\\lib\\site-packages\\torch\\optim\\lr_scheduler.py:139: UserWarning: Detected call of `lr_scheduler.step()` before `optimizer.step()`. In PyTorch 1.1.0 and later, you should call them in the opposite order: `optimizer.step()` before `lr_scheduler.step()`.  Failure to do this will result in PyTorch skipping the first value of the learning rate schedule. See more details at https://pytorch.org/docs/stable/optim.html#how-to-adjust-learning-rate\n",
      "  warnings.warn(\"Detected call of `lr_scheduler.step()` before `optimizer.step()`. \"\n"
     ]
    },
    {
     "data": {
      "text/plain": [
       "[<matplotlib.lines.Line2D at 0x1df1c300550>]"
      ]
     },
     "execution_count": 11,
     "metadata": {},
     "output_type": "execute_result"
    },
    {
     "data": {
      "image/png": "[encoded data removed]",
      "text/plain": [
       "<Figure size 432x288 with 1 Axes>"
      ]
     },
     "metadata": {
      "needs_background": "light"
     },
     "output_type": "display_data"
    }
   ],
   "source": [
    "for i in range(5000):\n",
    "    mycoswarm.step_and_store_lr()\n",
    "plt.plot(mycoswarm.lrs)"
   ]
  },
  {
   "cell_type": "code",
   "execution_count": 12,
   "metadata": {
    "collapsed": false
   },
   "outputs": [
    {
     "data": {
      "text/plain": [
       "[<matplotlib.lines.Line2D at 0x1df1c3fee20>]"
      ]
     },
     "execution_count": 12,
     "metadata": {},
     "output_type": "execute_result"
    },
    {
     "data": {
      "image/png": "[encoded data removed]",
      "text/plain": [
       "<Figure size 432x288 with 1 Axes>"
      ]
     },
     "metadata": {
      "needs_background": "light"
     },
     "output_type": "display_data"
    }
   ],
   "source": [
    "lrs = []\n",
    "for i in range(5000):\n",
    "    lrs.append(lwcosscheduler.schedule(i))\n",
    "plt.plot(lrs)"
   ]
  },
  {
   "cell_type": "code",
   "execution_count": 13,
   "metadata": {},
   "outputs": [],
   "source": [
    "model = SimpleDiscriminator()\n",
    "optim = torch.optim.Adam(model.parameters())\n",
    "crit = nn.MSELoss()\n",
    "lrscheduler = AttentionLRScheduler(optim, 64, 400, lr_multiplier=1000, store_lrs=True)"
   ]
  },
  {
   "cell_type": "code",
   "execution_count": 14,
   "metadata": {
    "collapsed": false
   },
   "outputs": [],
   "source": [
    "for i in range(5000):\n",
    "    lrscheduler.step_and_store_lr()"
   ]
  },
  {
   "cell_type": "code",
   "execution_count": 15,
   "metadata": {
    "collapsed": false
   },
   "outputs": [
    {
     "data": {
      "text/plain": [
       "[<matplotlib.lines.Line2D at 0x1df1c50fb50>]"
      ]
     },
     "execution_count": 15,
     "metadata": {},
     "output_type": "execute_result"
    },
    {
     "data": {
      "image/png": "[encoded data removed]",
      "text/plain": [
       "<Figure size 432x288 with 1 Axes>"
      ]
     },
     "metadata": {
      "needs_background": "light"
     },
     "output_type": "display_data"
    }
   ],
   "source": [
    "plt.plot(lrscheduler.lrs)"
   ]
  },
  {
   "cell_type": "code",
   "execution_count": 16,
   "metadata": {},
   "outputs": [],
   "source": [
    "X = torch.randn(10, 3, 32, 32)\n",
    "y = torch.randn(10, 1)"
   ]
  },
  {
   "cell_type": "code",
   "execution_count": 17,
   "metadata": {},
   "outputs": [],
   "source": [
    "net = NeuralNetwork(model, optim, crit)"
   ]
  },
  {
   "cell_type": "code",
   "execution_count": 18,
   "metadata": {},
   "outputs": [
    {
     "data": {
      "text/plain": [
       "[<pytorch_sklearn.callbacks.predefined.History at 0x1df28ea0eb0>]"
      ]
     },
     "execution_count": 18,
     "metadata": {},
     "output_type": "execute_result"
    }
   ],
   "source": [
    "net.callbacks"
   ]
  },
  {
   "cell_type": "code",
   "execution_count": null,
   "metadata": {},
   "outputs": [],
   "source": [
    "net.fit(\n",
    "    train_X=X,\n",
    "    train_y=y,\n",
    "    max_epochs=50,\n",
    "    callbacks=[Verbose(notebook=True)],\n",
    "    metrics={'l1loss': nn.L1Loss(), 'l2loss': nn.MSELoss()},\n",
    ")"
   ]
  },
  {
   "cell_type": "code",
   "execution_count": null,
   "metadata": {},
   "outputs": [],
   "source": [
    "net.predict(X)\n",
    "gen = net.predict_generator(X)\n",
    "for i in gen:\n",
    "    print(i)\n",
    "score = net.score(X, y)\n",
    "print(score)"
   ]
  },
  {
   "cell_type": "code",
   "execution_count": 19,
   "metadata": {},
   "outputs": [],
   "source": [
    "class CycleGANDataset(Dataset):\n",
    "    def __init__(self):\n",
    "        self.A = torch.randn(10, 3, 32, 32) * .1\n",
    "        self.B = torch.randn(10, 3, 32, 32) * .8\n",
    "\n",
    "    def __len__(self):\n",
    "        return 10\n",
    "    \n",
    "    def __getitem__(self, index):\n",
    "        return self.A[index], self.B[index]"
   ]
  },
  {
   "cell_type": "code",
   "execution_count": 20,
   "metadata": {},
   "outputs": [],
   "source": [
    "class ZenDataset(Dataset):\n",
    "    def __init__(self):\n",
    "        self.Zen = tvt.ToTensor()(Image.open('zen2.jpg')).unsqueeze(0)\n",
    "        self.Bro = tvt.ToTensor()(Image.open('bro.jpg')).unsqueeze(0)\n",
    "\n",
    "    def __len__(self):\n",
    "        return 1\n",
    "    \n",
    "    def __getitem__(self, index):\n",
    "        return self.Zen[index], self.Bro[index]"
   ]
  },
  {
   "cell_type": "code",
   "execution_count": 27,
   "metadata": {},
   "outputs": [],
   "source": [
    "class STDMetric:\n",
    "    def __init__(self):\n",
    "        self.stdA = []\n",
    "        self.stdB = []\n",
    "        self.stdA2B = []\n",
    "        self.stdB2A = []\n",
    "\n",
    "    def __call__(self, batch_out, batch_y):\n",
    "        A2B, B2A, *_ = batch_out\n",
    "        A, B = batch_y\n",
    "        self.stdA.append(A.std().item())\n",
    "        self.stdB.append(B.std().item())\n",
    "        self.stdA2B.append(A2B.std().item())\n",
    "        self.stdB2A.append(B2A.std().item())\n",
    "        return 0"
   ]
  },
  {
   "cell_type": "code",
   "execution_count": 28,
   "metadata": {},
   "outputs": [],
   "source": [
    "G_A = SimpleCNN()\n",
    "G_B = SimpleCNN()\n",
    "# G_A = KillerCNN()\n",
    "# G_B = KillerCNN()\n",
    "# G_A = KillerONN()\n",
    "# G_B = KillerONN()\n",
    "D_A = SimpleDiscriminator()\n",
    "D_B = SimpleDiscriminator()\n",
    "\n",
    "G_optim = torch.optim.Adam(list(G_A.parameters()) + list(G_B.parameters()), lr=0.001)\n",
    "D_optim = torch.optim.Adam(list(D_A.parameters()) + list(D_B.parameters()), lr=0.001)"
   ]
  },
  {
   "cell_type": "code",
   "execution_count": 29,
   "metadata": {},
   "outputs": [],
   "source": [
    "cycle_gan = CycleGAN(G_A, G_B, D_A, D_B, G_optim, D_optim)"
   ]
  },
  {
   "cell_type": "code",
   "execution_count": 30,
   "metadata": {},
   "outputs": [],
   "source": [
    "cycle_gan_ds = CycleGANDataset()\n",
    "zen_ds = ZenDataset()"
   ]
  },
  {
   "cell_type": "code",
   "execution_count": 31,
   "metadata": {},
   "outputs": [],
   "source": [
    "std_metric = STDMetric()"
   ]
  },
  {
   "cell_type": "code",
   "execution_count": 34,
   "metadata": {},
   "outputs": [
    {
     "name": "stdout",
     "output_type": "stream",
     "text": [
      "Epoch 201/400\n",
      "1/1 [====================] - train_loss: 1.717 - train_std: 0.000 - Time: 0.10 - ETA: 0.00\n",
      "Epoch 202/400\n",
      "1/1 [====================] - train_loss: 1.713 - train_std: 0.000 - Time: 0.05 - ETA: 0.00\n",
      "Epoch 203/400\n",
      "1/1 [====================] - train_loss: 1.709 - train_std: 0.000 - Time: 0.05 - ETA: 0.00\n",
      "Epoch 204/400\n",
      "1/1 [====================] - train_loss: 1.704 - train_std: 0.000 - Time: 0.04 - ETA: 0.00\n",
      "Epoch 205/400\n",
      "1/1 [====================] - train_loss: 1.700 - train_std: 0.000 - Time: 0.04 - ETA: 0.00\n",
      "Epoch 206/400\n",
      "1/1 [====================] - train_loss: 1.696 - train_std: 0.000 - Time: 0.02 - ETA: 0.00\n",
      "Epoch 207/400\n",
      "1/1 [====================] - train_loss: 1.692 - train_std: 0.000 - Time: 0.02 - ETA: 0.00\n",
      "Epoch 208/400\n",
      "1/1 [====================] - train_loss: 1.688 - train_std: 0.000 - Time: 0.02 - ETA: 0.00\n",
      "Epoch 209/400\n",
      "1/1 [====================] - train_loss: 1.684 - train_std: 0.000 - Time: 0.02 - ETA: 0.00\n",
      "Epoch 210/400\n",
      "1/1 [====================] - train_loss: 1.684 - train_std: 0.000 - Time: 0.02 - ETA: 0.00\n",
      "Epoch 211/400\n",
      "1/1 [====================] - train_loss: 1.681 - train_std: 0.000 - Time: 0.02 - ETA: 0.00\n",
      "Epoch 212/400\n",
      "1/1 [====================] - train_loss: 1.681 - train_std: 0.000 - Time: 0.02 - ETA: 0.00\n",
      "Epoch 213/400\n",
      "1/1 [====================] - train_loss: 1.682 - train_std: 0.000 - Time: 0.02 - ETA: 0.00\n",
      "Epoch 214/400\n",
      "1/1 [====================] - train_loss: 1.679 - train_std: 0.000 - Time: 0.02 - ETA: 0.00\n",
      "Epoch 215/400\n",
      "1/1 [====================] - train_loss: 1.679 - train_std: 0.000 - Time: 0.02 - ETA: 0.00\n",
      "Epoch 216/400\n",
      "1/1 [====================] - train_loss: 1.677 - train_std: 0.000 - Time: 0.02 - ETA: 0.00\n",
      "Epoch 217/400\n",
      "1/1 [====================] - train_loss: 1.668 - train_std: 0.000 - Time: 0.02 - ETA: 0.00\n",
      "Epoch 218/400\n",
      "1/1 [====================] - train_loss: 1.665 - train_std: 0.000 - Time: 0.02 - ETA: 0.00\n",
      "Epoch 219/400\n",
      "1/1 [====================] - train_loss: 1.656 - train_std: 0.000 - Time: 0.02 - ETA: 0.00\n",
      "Epoch 220/400\n",
      "1/1 [====================] - train_loss: 1.647 - train_std: 0.000 - Time: 0.02 - ETA: 0.00\n",
      "Epoch 221/400\n",
      "1/1 [====================] - train_loss: 1.643 - train_std: 0.000 - Time: 0.02 - ETA: 0.00\n",
      "Epoch 222/400\n",
      "1/1 [====================] - train_loss: 1.636 - train_std: 0.000 - Time: 0.02 - ETA: 0.00\n",
      "Epoch 223/400\n",
      "1/1 [====================] - train_loss: 1.632 - train_std: 0.000 - Time: 0.02 - ETA: 0.00\n",
      "Epoch 224/400\n",
      "1/1 [====================] - train_loss: 1.628 - train_std: 0.000 - Time: 0.02 - ETA: 0.00\n",
      "Epoch 225/400\n",
      "1/1 [====================] - train_loss: 1.621 - train_std: 0.000 - Time: 0.02 - ETA: 0.00\n",
      "Epoch 226/400\n",
      "1/1 [====================] - train_loss: 1.622 - train_std: 0.000 - Time: 0.02 - ETA: 0.00\n",
      "Epoch 227/400\n",
      "1/1 [====================] - train_loss: 1.609 - train_std: 0.000 - Time: 0.02 - ETA: 0.00\n",
      "Epoch 228/400\n",
      "1/1 [====================] - train_loss: 1.610 - train_std: 0.000 - Time: 0.02 - ETA: 0.00\n",
      "Epoch 229/400\n",
      "1/1 [====================] - train_loss: 1.599 - train_std: 0.000 - Time: 0.02 - ETA: 0.00\n",
      "Epoch 230/400\n",
      "1/1 [====================] - train_loss: 1.600 - train_std: 0.000 - Time: 0.02 - ETA: 0.00\n",
      "Epoch 231/400\n",
      "1/1 [====================] - train_loss: 1.598 - train_std: 0.000 - Time: 0.02 - ETA: 0.00\n",
      "Epoch 232/400\n",
      "1/1 [====================] - train_loss: 1.597 - train_std: 0.000 - Time: 0.02 - ETA: 0.00\n",
      "Epoch 233/400\n",
      "1/1 [====================] - train_loss: 1.606 - train_std: 0.000 - Time: 0.02 - ETA: 0.00\n",
      "Epoch 234/400\n",
      "1/1 [====================] - train_loss: 1.596 - train_std: 0.000 - Time: 0.02 - ETA: 0.00\n",
      "Epoch 235/400\n",
      "1/1 [====================] - train_loss: 1.608 - train_std: 0.000 - Time: 0.02 - ETA: 0.00\n",
      "Epoch 236/400\n",
      "1/1 [====================] - train_loss: 1.578 - train_std: 0.000 - Time: 0.02 - ETA: 0.00\n",
      "Epoch 237/400\n",
      "1/1 [====================] - train_loss: 1.608 - train_std: 0.000 - Time: 0.02 - ETA: 0.00\n",
      "Epoch 238/400\n",
      "1/1 [====================] - train_loss: 1.563 - train_std: 0.000 - Time: 0.02 - ETA: 0.00\n",
      "Epoch 239/400\n",
      "1/1 [====================] - train_loss: 1.590 - train_std: 0.000 - Time: 0.02 - ETA: 0.00\n",
      "Epoch 240/400\n",
      "1/1 [====================] - train_loss: 1.586 - train_std: 0.000 - Time: 0.02 - ETA: 0.00\n",
      "Epoch 241/400\n",
      "1/1 [====================] - train_loss: 1.547 - train_std: 0.000 - Time: 0.02 - ETA: 0.00\n",
      "Epoch 242/400\n",
      "1/1 [====================] - train_loss: 1.579 - train_std: 0.000 - Time: 0.02 - ETA: 0.00\n",
      "Epoch 243/400\n",
      "1/1 [====================] - train_loss: 1.555 - train_std: 0.000 - Time: 0.02 - ETA: 0.00\n",
      "Epoch 244/400\n",
      "1/1 [====================] - train_loss: 1.542 - train_std: 0.000 - Time: 0.02 - ETA: 0.00\n",
      "Epoch 245/400\n",
      "1/1 [====================] - train_loss: 1.570 - train_std: 0.000 - Time: 0.02 - ETA: 0.00\n",
      "Epoch 246/400\n",
      "1/1 [====================] - train_loss: 1.524 - train_std: 0.000 - Time: 0.02 - ETA: 0.00\n",
      "Epoch 247/400\n",
      "1/1 [====================] - train_loss: 1.553 - train_std: 0.000 - Time: 0.02 - ETA: 0.00\n",
      "Epoch 248/400\n",
      "1/1 [====================] - train_loss: 1.542 - train_std: 0.000 - Time: 0.02 - ETA: 0.00\n",
      "Epoch 249/400\n",
      "1/1 [====================] - train_loss: 1.520 - train_std: 0.000 - Time: 0.02 - ETA: 0.00\n",
      "Epoch 250/400\n",
      "1/1 [====================] - train_loss: 1.549 - train_std: 0.000 - Time: 0.02 - ETA: 0.00\n",
      "Epoch 251/400\n",
      "1/1 [====================] - train_loss: 1.513 - train_std: 0.000 - Time: 0.02 - ETA: 0.00\n",
      "Epoch 252/400\n",
      "1/1 [====================] - train_loss: 1.541 - train_std: 0.000 - Time: 0.02 - ETA: 0.00\n",
      "Epoch 253/400\n",
      "1/1 [====================] - train_loss: 1.526 - train_std: 0.000 - Time: 0.03 - ETA: 0.00\n",
      "Epoch 254/400\n",
      "1/1 [====================] - train_loss: 1.540 - train_std: 0.000 - Time: 0.02 - ETA: 0.00\n",
      "Epoch 255/400\n",
      "1/1 [====================] - train_loss: 1.543 - train_std: 0.000 - Time: 0.03 - ETA: 0.00\n",
      "Epoch 256/400\n",
      "1/1 [====================] - train_loss: 1.570 - train_std: 0.000 - Time: 0.02 - ETA: 0.00\n",
      "Epoch 257/400\n",
      "1/1 [====================] - train_loss: 1.514 - train_std: 0.000 - Time: 0.02 - ETA: 0.00\n",
      "Epoch 258/400\n",
      "1/1 [====================] - train_loss: 1.567 - train_std: 0.000 - Time: 0.02 - ETA: 0.00\n",
      "Epoch 259/400\n",
      "1/1 [====================] - train_loss: 1.462 - train_std: 0.000 - Time: 0.02 - ETA: 0.00\n",
      "Epoch 260/400\n",
      "1/1 [====================] - train_loss: 1.595 - train_std: 0.000 - Time: 0.02 - ETA: 0.00\n",
      "Epoch 261/400\n",
      "1/1 [====================] - train_loss: 1.490 - train_std: 0.000 - Time: 0.02 - ETA: 0.00\n",
      "Epoch 262/400\n",
      "1/1 [====================] - train_loss: 1.472 - train_std: 0.000 - Time: 0.02 - ETA: 0.00\n",
      "Epoch 263/400\n",
      "1/1 [====================] - train_loss: 1.546 - train_std: 0.000 - Time: 0.02 - ETA: 0.00\n",
      "Epoch 264/400\n",
      "1/1 [====================] - train_loss: 1.448 - train_std: 0.000 - Time: 0.03 - ETA: 0.00\n",
      "Epoch 265/400\n",
      "1/1 [====================] - train_loss: 1.458 - train_std: 0.000 - Time: 0.02 - ETA: 0.00\n",
      "Epoch 266/400\n",
      "1/1 [====================] - train_loss: 1.503 - train_std: 0.000 - Time: 0.03 - ETA: 0.00\n",
      "Epoch 267/400\n",
      "1/1 [====================] - train_loss: 1.406 - train_std: 0.000 - Time: 0.03 - ETA: 0.00\n",
      "Epoch 268/400\n",
      "1/1 [====================] - train_loss: 1.496 - train_std: 0.000 - Time: 0.02 - ETA: 0.00\n",
      "Epoch 269/400\n",
      "1/1 [====================] - train_loss: 1.458 - train_std: 0.000 - Time: 0.02 - ETA: 0.00\n",
      "Epoch 270/400\n",
      "1/1 [====================] - train_loss: 1.448 - train_std: 0.000 - Time: 0.02 - ETA: 0.00\n",
      "Epoch 271/400\n",
      "1/1 [====================] - train_loss: 1.545 - train_std: 0.000 - Time: 0.03 - ETA: 0.00\n",
      "Epoch 272/400\n",
      "1/1 [====================] - train_loss: 1.424 - train_std: 0.000 - Time: 0.02 - ETA: 0.00\n",
      "Epoch 273/400\n",
      "1/1 [====================] - train_loss: 1.474 - train_std: 0.000 - Time: 0.02 - ETA: 0.00\n",
      "Epoch 274/400\n",
      "1/1 [====================] - train_loss: 1.581 - train_std: 0.000 - Time: 0.02 - ETA: 0.00\n",
      "Epoch 275/400\n",
      "1/1 [====================] - train_loss: 1.344 - train_std: 0.000 - Time: 0.02 - ETA: 0.00\n",
      "Epoch 276/400\n",
      "1/1 [====================] - train_loss: 1.488 - train_std: 0.000 - Time: 0.03 - ETA: 0.00\n",
      "Epoch 277/400\n",
      "1/1 [====================] - train_loss: 1.414 - train_std: 0.000 - Time: 0.02 - ETA: 0.00\n",
      "Epoch 278/400\n",
      "1/1 [====================] - train_loss: 1.275 - train_std: 0.000 - Time: 0.02 - ETA: 0.00\n",
      "Epoch 279/400\n",
      "1/1 [====================] - train_loss: 1.371 - train_std: 0.000 - Time: 0.02 - ETA: 0.00\n",
      "Epoch 280/400\n",
      "1/1 [====================] - train_loss: 1.337 - train_std: 0.000 - Time: 0.02 - ETA: 0.00\n",
      "Epoch 281/400\n",
      "1/1 [====================] - train_loss: 1.294 - train_std: 0.000 - Time: 0.02 - ETA: 0.00\n",
      "Epoch 282/400\n",
      "1/1 [====================] - train_loss: 1.385 - train_std: 0.000 - Time: 0.02 - ETA: 0.00\n",
      "Epoch 283/400\n",
      "1/1 [====================] - train_loss: 1.388 - train_std: 0.000 - Time: 0.02 - ETA: 0.00\n",
      "Epoch 284/400\n",
      "1/1 [====================] - train_loss: 1.349 - train_std: 0.000 - Time: 0.03 - ETA: 0.00\n",
      "Epoch 285/400\n",
      "1/1 [====================] - train_loss: 1.413 - train_std: 0.000 - Time: 0.02 - ETA: 0.00\n",
      "Epoch 286/400\n",
      "1/1 [====================] - train_loss: 1.262 - train_std: 0.000 - Time: 0.02 - ETA: 0.00\n",
      "Epoch 287/400\n",
      "1/1 [====================] - train_loss: 1.272 - train_std: 0.000 - Time: 0.02 - ETA: 0.00\n",
      "Epoch 288/400\n",
      "1/1 [====================] - train_loss: 1.216 - train_std: 0.000 - Time: 0.02 - ETA: 0.00\n",
      "Epoch 289/400\n",
      "1/1 [====================] - train_loss: 1.037 - train_std: 0.000 - Time: 0.02 - ETA: 0.00\n",
      "Epoch 290/400\n",
      "1/1 [====================] - train_loss: 1.362 - train_std: 0.000 - Time: 0.02 - ETA: 0.00\n",
      "Epoch 291/400\n",
      "1/1 [====================] - train_loss: 1.034 - train_std: 0.000 - Time: 0.02 - ETA: 0.00\n",
      "Epoch 292/400\n",
      "1/1 [====================] - train_loss: 1.281 - train_std: 0.000 - Time: 0.03 - ETA: 0.00\n",
      "Epoch 293/400\n",
      "1/1 [====================] - train_loss: 1.495 - train_std: 0.000 - Time: 0.02 - ETA: 0.00\n",
      "Epoch 294/400\n",
      "1/1 [====================] - train_loss: 1.278 - train_std: 0.000 - Time: 0.02 - ETA: 0.00\n",
      "Epoch 295/400\n",
      "1/1 [====================] - train_loss: 1.190 - train_std: 0.000 - Time: 0.02 - ETA: 0.00\n",
      "Epoch 296/400\n",
      "1/1 [====================] - train_loss: 1.566 - train_std: 0.000 - Time: 0.03 - ETA: 0.00\n",
      "Epoch 297/400\n",
      "1/1 [====================] - train_loss: 0.975 - train_std: 0.000 - Time: 0.02 - ETA: 0.00\n",
      "Epoch 298/400\n",
      "1/1 [====================] - train_loss: 0.767 - train_std: 0.000 - Time: 0.03 - ETA: 0.00\n",
      "Epoch 299/400\n",
      "1/1 [====================] - train_loss: 1.111 - train_std: 0.000 - Time: 0.02 - ETA: 0.00\n",
      "Epoch 300/400\n",
      "1/1 [====================] - train_loss: 0.981 - train_std: 0.000 - Time: 0.02 - ETA: 0.00\n",
      "Epoch 301/400\n",
      "1/1 [====================] - train_loss: 0.751 - train_std: 0.000 - Time: 0.02 - ETA: 0.00\n",
      "Epoch 302/400\n",
      "1/1 [====================] - train_loss: 0.871 - train_std: 0.000 - Time: 0.02 - ETA: 0.00\n",
      "Epoch 303/400\n",
      "1/1 [====================] - train_loss: 1.166 - train_std: 0.000 - Time: 0.02 - ETA: 0.00\n",
      "Epoch 304/400\n",
      "1/1 [====================] - train_loss: 1.226 - train_std: 0.000 - Time: 0.02 - ETA: 0.00\n",
      "Epoch 305/400\n",
      "1/1 [====================] - train_loss: 1.155 - train_std: 0.000 - Time: 0.02 - ETA: 0.00\n",
      "Epoch 306/400\n",
      "1/1 [====================] - train_loss: 1.061 - train_std: 0.000 - Time: 0.02 - ETA: 0.00\n",
      "Epoch 307/400\n",
      "1/1 [====================] - train_loss: 1.135 - train_std: 0.000 - Time: 0.02 - ETA: 0.00\n",
      "Epoch 308/400\n",
      "1/1 [====================] - train_loss: 1.076 - train_std: 0.000 - Time: 0.02 - ETA: 0.00\n",
      "Epoch 309/400\n",
      "1/1 [====================] - train_loss: 0.898 - train_std: 0.000 - Time: 0.02 - ETA: 0.00\n",
      "Epoch 310/400\n",
      "1/1 [====================] - train_loss: 0.831 - train_std: 0.000 - Time: 0.03 - ETA: 0.00\n",
      "Epoch 311/400\n",
      "1/1 [====================] - train_loss: 0.811 - train_std: 0.000 - Time: 0.03 - ETA: 0.00\n",
      "Epoch 312/400\n",
      "1/1 [====================] - train_loss: 0.821 - train_std: 0.000 - Time: 0.02 - ETA: 0.00\n",
      "Epoch 313/400\n",
      "1/1 [====================] - train_loss: 0.921 - train_std: 0.000 - Time: 0.02 - ETA: 0.00\n",
      "Epoch 314/400\n",
      "1/1 [====================] - train_loss: 0.998 - train_std: 0.000 - Time: 0.02 - ETA: 0.00\n",
      "Epoch 315/400\n",
      "1/1 [====================] - train_loss: 0.989 - train_std: 0.000 - Time: 0.02 - ETA: 0.00\n",
      "Epoch 316/400\n",
      "1/1 [====================] - train_loss: 1.014 - train_std: 0.000 - Time: 0.02 - ETA: 0.00\n",
      "Epoch 317/400\n",
      "1/1 [====================] - train_loss: 1.011 - train_std: 0.000 - Time: 0.02 - ETA: 0.00\n",
      "Epoch 318/400\n",
      "1/1 [====================] - train_loss: 1.013 - train_std: 0.000 - Time: 0.02 - ETA: 0.00\n",
      "Epoch 319/400\n",
      "1/1 [====================] - train_loss: 1.042 - train_std: 0.000 - Time: 0.02 - ETA: 0.00\n",
      "Epoch 320/400\n",
      "1/1 [====================] - train_loss: 1.115 - train_std: 0.000 - Time: 0.02 - ETA: 0.00\n",
      "Epoch 321/400\n",
      "1/1 [====================] - train_loss: 1.173 - train_std: 0.000 - Time: 0.02 - ETA: 0.00\n",
      "Epoch 322/400\n",
      "1/1 [====================] - train_loss: 1.091 - train_std: 0.000 - Time: 0.02 - ETA: 0.00\n",
      "Epoch 323/400\n",
      "1/1 [====================] - train_loss: 1.279 - train_std: 0.000 - Time: 0.02 - ETA: 0.00\n",
      "Epoch 324/400\n",
      "1/1 [====================] - train_loss: 1.482 - train_std: 0.000 - Time: 0.03 - ETA: 0.00\n",
      "Epoch 325/400\n",
      "1/1 [====================] - train_loss: 1.635 - train_std: 0.000 - Time: 0.02 - ETA: 0.00\n",
      "Epoch 326/400\n",
      "1/1 [====================] - train_loss: 1.490 - train_std: 0.000 - Time: 0.02 - ETA: 0.00\n",
      "Epoch 327/400\n",
      "1/1 [====================] - train_loss: 1.403 - train_std: 0.000 - Time: 0.03 - ETA: 0.00\n",
      "Epoch 328/400\n",
      "1/1 [====================] - train_loss: 1.548 - train_std: 0.000 - Time: 0.02 - ETA: 0.00\n",
      "Epoch 329/400\n",
      "1/1 [====================] - train_loss: 1.595 - train_std: 0.000 - Time: 0.02 - ETA: 0.00\n",
      "Epoch 330/400\n",
      "1/1 [====================] - train_loss: 1.468 - train_std: 0.000 - Time: 0.02 - ETA: 0.00\n",
      "Epoch 331/400\n",
      "1/1 [====================] - train_loss: 1.351 - train_std: 0.000 - Time: 0.02 - ETA: 0.00\n",
      "Epoch 332/400\n",
      "1/1 [====================] - train_loss: 1.263 - train_std: 0.000 - Time: 0.02 - ETA: 0.00\n",
      "Epoch 333/400\n",
      "1/1 [====================] - train_loss: 1.226 - train_std: 0.000 - Time: 0.02 - ETA: 0.00\n",
      "Epoch 334/400\n",
      "1/1 [====================] - train_loss: 1.166 - train_std: 0.000 - Time: 0.02 - ETA: 0.00\n",
      "Epoch 335/400\n",
      "1/1 [====================] - train_loss: 1.108 - train_std: 0.000 - Time: 0.02 - ETA: 0.00\n",
      "Epoch 336/400\n",
      "1/1 [====================] - train_loss: 1.255 - train_std: 0.000 - Time: 0.02 - ETA: 0.00\n",
      "Epoch 337/400\n",
      "1/1 [====================] - train_loss: 1.385 - train_std: 0.000 - Time: 0.02 - ETA: 0.00\n",
      "Epoch 338/400\n",
      "1/1 [====================] - train_loss: 1.465 - train_std: 0.000 - Time: 0.02 - ETA: 0.00\n",
      "Epoch 339/400\n",
      "1/1 [====================] - train_loss: 1.508 - train_std: 0.000 - Time: 0.02 - ETA: 0.00\n",
      "Epoch 340/400\n",
      "1/1 [====================] - train_loss: 1.447 - train_std: 0.000 - Time: 0.02 - ETA: 0.00\n",
      "Epoch 341/400\n",
      "1/1 [====================] - train_loss: 1.528 - train_std: 0.000 - Time: 0.02 - ETA: 0.00\n",
      "Epoch 342/400\n",
      "1/1 [====================] - train_loss: 1.686 - train_std: 0.000 - Time: 0.02 - ETA: 0.00\n",
      "Epoch 343/400\n",
      "1/1 [====================] - train_loss: 1.788 - train_std: 0.000 - Time: 0.02 - ETA: 0.00\n",
      "Epoch 344/400\n",
      "1/1 [====================] - train_loss: 1.782 - train_std: 0.000 - Time: 0.02 - ETA: 0.00\n",
      "Epoch 345/400\n",
      "1/1 [====================] - train_loss: 1.744 - train_std: 0.000 - Time: 0.02 - ETA: 0.00\n",
      "Epoch 346/400\n",
      "1/1 [====================] - train_loss: 1.813 - train_std: 0.000 - Time: 0.02 - ETA: 0.00\n",
      "Epoch 347/400\n",
      "1/1 [====================] - train_loss: 1.835 - train_std: 0.000 - Time: 0.02 - ETA: 0.00\n",
      "Epoch 348/400\n",
      "1/1 [====================] - train_loss: 1.739 - train_std: 0.000 - Time: 0.02 - ETA: 0.00\n",
      "Epoch 349/400\n",
      "1/1 [====================] - train_loss: 1.630 - train_std: 0.000 - Time: 0.02 - ETA: 0.00\n",
      "Epoch 350/400\n",
      "1/1 [====================] - train_loss: 1.565 - train_std: 0.000 - Time: 0.02 - ETA: 0.00\n",
      "Epoch 351/400\n",
      "1/1 [====================] - train_loss: 1.535 - train_std: 0.000 - Time: 0.02 - ETA: 0.00\n",
      "Epoch 352/400\n",
      "1/1 [====================] - train_loss: 1.502 - train_std: 0.000 - Time: 0.02 - ETA: 0.00\n",
      "Epoch 353/400\n",
      "1/1 [====================] - train_loss: 1.561 - train_std: 0.000 - Time: 0.02 - ETA: 0.00\n",
      "Epoch 354/400\n",
      "1/1 [====================] - train_loss: 1.523 - train_std: 0.000 - Time: 0.02 - ETA: 0.00\n",
      "Epoch 355/400\n",
      "1/1 [====================] - train_loss: 1.473 - train_std: 0.000 - Time: 0.02 - ETA: 0.00\n",
      "Epoch 356/400\n",
      "1/1 [====================] - train_loss: 1.410 - train_std: 0.000 - Time: 0.02 - ETA: 0.00\n",
      "Epoch 357/400\n",
      "1/1 [====================] - train_loss: 1.350 - train_std: 0.000 - Time: 0.02 - ETA: 0.00\n",
      "Epoch 358/400\n",
      "1/1 [====================] - train_loss: 1.415 - train_std: 0.000 - Time: 0.02 - ETA: 0.00\n",
      "Epoch 359/400\n",
      "1/1 [====================] - train_loss: 1.430 - train_std: 0.000 - Time: 0.02 - ETA: 0.00\n",
      "Epoch 360/400\n",
      "1/1 [====================] - train_loss: 1.453 - train_std: 0.000 - Time: 0.03 - ETA: 0.00\n",
      "Epoch 361/400\n",
      "1/1 [====================] - train_loss: 1.420 - train_std: 0.000 - Time: 0.02 - ETA: 0.00\n",
      "Epoch 362/400\n",
      "1/1 [====================] - train_loss: 1.411 - train_std: 0.000 - Time: 0.02 - ETA: 0.00\n",
      "Epoch 363/400\n",
      "1/1 [====================] - train_loss: 1.415 - train_std: 0.000 - Time: 0.02 - ETA: 0.00\n",
      "Epoch 364/400\n",
      "1/1 [====================] - train_loss: 1.443 - train_std: 0.000 - Time: 0.02 - ETA: 0.00\n",
      "Epoch 365/400\n",
      "1/1 [====================] - train_loss: 1.543 - train_std: 0.000 - Time: 0.02 - ETA: 0.00\n",
      "Epoch 366/400\n",
      "1/1 [====================] - train_loss: 1.543 - train_std: 0.000 - Time: 0.02 - ETA: 0.00\n",
      "Epoch 367/400\n",
      "1/1 [====================] - train_loss: 1.555 - train_std: 0.000 - Time: 0.02 - ETA: 0.00\n",
      "Epoch 368/400\n",
      "1/1 [====================] - train_loss: 1.548 - train_std: 0.000 - Time: 0.03 - ETA: 0.00\n",
      "Epoch 369/400\n",
      "1/1 [====================] - train_loss: 1.534 - train_std: 0.000 - Time: 0.02 - ETA: 0.00\n",
      "Epoch 370/400\n",
      "1/1 [====================] - train_loss: 1.579 - train_std: 0.000 - Time: 0.02 - ETA: 0.00\n",
      "Epoch 371/400\n",
      "1/1 [====================] - train_loss: 1.585 - train_std: 0.000 - Time: 0.03 - ETA: 0.00\n",
      "Epoch 372/400\n",
      "1/1 [====================] - train_loss: 1.632 - train_std: 0.000 - Time: 0.02 - ETA: 0.00\n",
      "Epoch 373/400\n",
      "1/1 [====================] - train_loss: 1.610 - train_std: 0.000 - Time: 0.02 - ETA: 0.00\n",
      "Epoch 374/400\n",
      "1/1 [====================] - train_loss: 1.594 - train_std: 0.000 - Time: 0.02 - ETA: 0.00\n",
      "Epoch 375/400\n",
      "1/1 [====================] - train_loss: 1.565 - train_std: 0.000 - Time: 0.02 - ETA: 0.00\n",
      "Epoch 376/400\n",
      "1/1 [====================] - train_loss: 1.528 - train_std: 0.000 - Time: 0.02 - ETA: 0.00\n",
      "Epoch 377/400\n",
      "1/1 [====================] - train_loss: 1.568 - train_std: 0.000 - Time: 0.02 - ETA: 0.00\n",
      "Epoch 378/400\n",
      "1/1 [====================] - train_loss: 1.542 - train_std: 0.000 - Time: 0.02 - ETA: 0.00\n",
      "Epoch 379/400\n",
      "1/1 [====================] - train_loss: 1.580 - train_std: 0.000 - Time: 0.02 - ETA: 0.00\n",
      "Epoch 380/400\n",
      "1/1 [====================] - train_loss: 1.519 - train_std: 0.000 - Time: 0.02 - ETA: 0.00\n",
      "Epoch 381/400\n",
      "1/1 [====================] - train_loss: 1.505 - train_std: 0.000 - Time: 0.02 - ETA: 0.00\n",
      "Epoch 382/400\n",
      "1/1 [====================] - train_loss: 1.482 - train_std: 0.000 - Time: 0.02 - ETA: 0.00\n",
      "Epoch 383/400\n",
      "1/1 [====================] - train_loss: 1.459 - train_std: 0.000 - Time: 0.02 - ETA: 0.00\n",
      "Epoch 384/400\n",
      "1/1 [====================] - train_loss: 1.496 - train_std: 0.000 - Time: 0.03 - ETA: 0.00\n",
      "Epoch 385/400\n",
      "1/1 [====================] - train_loss: 1.469 - train_std: 0.000 - Time: 0.02 - ETA: 0.00\n",
      "Epoch 386/400\n",
      "1/1 [====================] - train_loss: 1.493 - train_std: 0.000 - Time: 0.02 - ETA: 0.00\n",
      "Epoch 387/400\n",
      "1/1 [====================] - train_loss: 1.470 - train_std: 0.000 - Time: 0.02 - ETA: 0.00\n",
      "Epoch 388/400\n",
      "1/1 [====================] - train_loss: 1.441 - train_std: 0.000 - Time: 0.02 - ETA: 0.00\n",
      "Epoch 389/400\n",
      "1/1 [====================] - train_loss: 1.463 - train_std: 0.000 - Time: 0.02 - ETA: 0.00\n",
      "Epoch 390/400\n",
      "1/1 [====================] - train_loss: 1.434 - train_std: 0.000 - Time: 0.02 - ETA: 0.00\n",
      "Epoch 391/400\n",
      "1/1 [====================] - train_loss: 1.470 - train_std: 0.000 - Time: 0.03 - ETA: 0.00\n",
      "Epoch 392/400\n",
      "1/1 [====================] - train_loss: 1.473 - train_std: 0.000 - Time: 0.02 - ETA: 0.00\n",
      "Epoch 393/400\n",
      "1/1 [====================] - train_loss: 1.469 - train_std: 0.000 - Time: 0.02 - ETA: 0.00\n",
      "Epoch 394/400\n",
      "1/1 [====================] - train_loss: 1.471 - train_std: 0.000 - Time: 0.02 - ETA: 0.00\n",
      "Epoch 395/400\n",
      "1/1 [====================] - train_loss: 1.451 - train_std: 0.000 - Time: 0.02 - ETA: 0.00\n",
      "Epoch 396/400\n",
      "1/1 [====================] - train_loss: 1.452 - train_std: 0.000 - Time: 0.02 - ETA: 0.00\n",
      "Epoch 397/400\n",
      "1/1 [====================] - train_loss: 1.465 - train_std: 0.000 - Time: 0.02 - ETA: 0.00\n",
      "Epoch 398/400\n",
      "1/1 [====================] - train_loss: 1.470 - train_std: 0.000 - Time: 0.02 - ETA: 0.00\n",
      "Epoch 399/400\n",
      "1/1 [====================] - train_loss: 1.486 - train_std: 0.000 - Time: 0.02 - ETA: 0.00\n",
      "Epoch 400/400\n",
      "1/1 [====================] - train_loss: 1.477 - train_std: 0.000 - Time: 0.02 - ETA: 0.00\n"
     ]
    }
   ],
   "source": [
    "cycle_gan.fit(\n",
    "    train_X=cycle_gan_ds,\n",
    "    max_epochs=200,\n",
    "    callbacks=[Verbose(notebook=True)],\n",
    "    metrics={'std': std_metric},\n",
    ")"
   ]
  },
  {
   "cell_type": "code",
   "execution_count": null,
   "metadata": {},
   "outputs": [],
   "source": [
    "cycle_gan.G_elo, cycle_gan.D_elo"
   ]
  },
  {
   "cell_type": "code",
   "execution_count": 35,
   "metadata": {},
   "outputs": [
    {
     "data": {
      "image/png": "[encoded data removed]",
      "text/plain": [
       "<Figure size 432x288 with 1 Axes>"
      ]
     },
     "metadata": {
      "needs_background": "light"
     },
     "output_type": "display_data"
    }
   ],
   "source": [
    "plt.plot(std_metric.stdA, label='A')\n",
    "plt.plot(std_metric.stdB, label='B')\n",
    "plt.plot(std_metric.stdA2B, label='A2B')\n",
    "plt.plot(std_metric.stdB2A, label='B2A')\n",
    "plt.legend()\n",
    "plt.show()"
   ]
  },
  {
   "cell_type": "code",
   "execution_count": null,
   "metadata": {},
   "outputs": [],
   "source": [
    "preds = cycle_gan.predict(cycle_gan_ds)"
   ]
  },
  {
   "cell_type": "code",
   "execution_count": null,
   "metadata": {},
   "outputs": [],
   "source": [
    "plt.plot(cycle_gan.history.track['train_G_A_loss'], label='G_A_loss')\n",
    "plt.plot(cycle_gan.history.track['train_G_B_loss'], label='G_B_loss')\n",
    "plt.plot(cycle_gan.history.track['train_D_A_loss'], label='D_A_loss')\n",
    "plt.plot(cycle_gan.history.track['train_D_B_loss'], label='D_B_loss')\n",
    "# plt.ylim(0, 4)\n",
    "plt.legend()\n",
    "plt.show()"
   ]
  },
  {
   "cell_type": "code",
   "execution_count": null,
   "metadata": {},
   "outputs": [],
   "source": [
    "preds = cycle_gan.predict(cycle_gan_ds)\n",
    "score = cycle_gan.score(cycle_gan_ds)\n",
    "print(score)\n",
    "out_gen = cycle_gan.predict_generator(cycle_gan_ds)\n",
    "for i in out_gen:\n",
    "    print(i.__len__())"
   ]
  },
  {
   "cell_type": "code",
   "execution_count": null,
   "metadata": {},
   "outputs": [],
   "source": [
    "NeuralNetwork.save_class(cycle_gan, 'cycle_gan.pkl')"
   ]
  },
  {
   "cell_type": "code",
   "execution_count": null,
   "metadata": {},
   "outputs": [],
   "source": [
    "NeuralNetwork.load_class(cycle_gan, [], 'cycle_gan.pkl')"
   ]
  },
  {
   "cell_type": "code",
   "execution_count": null,
   "metadata": {},
   "outputs": [],
   "source": [
    "plt.figure(figsize=(10, 10))\n",
    "plt.subplot(2, 2, 1)\n",
    "plt.imshow(preds[0][0].permute(1, 2, 0).cpu(), vmin=preds[0][0].min(), vmax=preds[0][0].max())\n",
    "plt.title('A2B')\n",
    "plt.axis('off')\n",
    "plt.subplot(2, 2, 2)\n",
    "plt.imshow(preds[1][0].permute(1, 2, 0).cpu(), vmin=preds[1][0].min(), vmax=preds[1][0].max())\n",
    "plt.title('B2A')\n",
    "plt.axis('off')\n",
    "plt.subplot(2, 2, 3)\n",
    "plt.imshow(preds[2][0].permute(1, 2, 0).cpu(), vmin=preds[2][0].min(), vmax=preds[2][0].max())\n",
    "plt.title('A2B2A')\n",
    "plt.axis('off')\n",
    "plt.subplot(2, 2, 4)\n",
    "plt.imshow(preds[3][0].permute(1, 2, 0).cpu(), vmin=preds[3][0].min(), vmax=preds[3][0].max())\n",
    "plt.title('B2A2B')\n",
    "plt.axis('off')\n",
    "plt.gcf().tight_layout(w_pad=-10)\n",
    "plt.show()"
   ]
  },
  {
   "cell_type": "code",
   "execution_count": null,
   "metadata": {},
   "outputs": [],
   "source": [
    "[pred.std() for pred in preds]"
   ]
  },
  {
   "cell_type": "code",
   "execution_count": null,
   "metadata": {},
   "outputs": [],
   "source": []
  },
  {
   "cell_type": "code",
   "execution_count": null,
   "metadata": {},
   "outputs": [],
   "source": [
    "class R2CGANDataset(Dataset):\n",
    "    def __init__(self):\n",
    "        self.A = torch.randn(10, 3, 32, 32) * .1\n",
    "        self.B = torch.randn(10, 3, 32, 32) * .8\n",
    "\n",
    "    def __len__(self):\n",
    "        return 10\n",
    "    \n",
    "    def __getitem__(self, index):\n",
    "        return self.A[index], 0, self.B[index], 1"
   ]
  },
  {
   "cell_type": "code",
   "execution_count": null,
   "metadata": {},
   "outputs": [],
   "source": [
    "class SimpleR2CCNN(nn.Module):\n",
    "    def __init__(self):\n",
    "        super().__init__()\n",
    "        self.conv1 = nn.Conv2d(3, 32, kernel_size=3, padding=1)\n",
    "        self.conv2 = nn.Conv2d(32, 32, kernel_size=3, padding=1)\n",
    "        self.conv3 = nn.Conv2d(32, 3, kernel_size=3, padding=1)\n",
    "\n",
    "        self.maxpool1 = nn.AdaptiveMaxPool2d(1)\n",
    "        self.fc = nn.Linear(3, 2)\n",
    "\n",
    "    def forward(self, x):\n",
    "        x = F.relu(self.conv1(x))\n",
    "        x = F.relu(self.conv2(x))\n",
    "        y =  self.conv3(x)\n",
    "\n",
    "        c = self.maxpool1(y)\n",
    "        c = c.view(c.size(0), -1)\n",
    "        c = self.fc(c)\n",
    "        \n",
    "        return y, c"
   ]
  },
  {
   "cell_type": "code",
   "execution_count": null,
   "metadata": {},
   "outputs": [],
   "source": [
    "class R2CSTDMetric:\n",
    "    def __init__(self):\n",
    "        self.stdA = []\n",
    "        self.stdB = []\n",
    "        self.stdA2B = []\n",
    "        self.stdB2A = []\n",
    "\n",
    "    def __call__(self, batch_out, batch_y):\n",
    "        A2B, B2A = batch_out\n",
    "        A, yA, B, yB = batch_y\n",
    "        self.stdA.append(A.std().item())\n",
    "        self.stdB.append(B.std().item())\n",
    "        self.stdA2B.append(A2B.std().item())\n",
    "        self.stdB2A.append(B2A.std().item())\n",
    "        return 0"
   ]
  },
  {
   "cell_type": "code",
   "execution_count": null,
   "metadata": {},
   "outputs": [],
   "source": [
    "G_A = SimpleR2CCNN()\n",
    "G_B = SimpleR2CCNN()\n",
    "# G_A = KillerCNN()\n",
    "# G_B = KillerCNN()\n",
    "# G_A = KillerONN()\n",
    "# G_B = KillerONN()\n",
    "D_A = SimpleDiscriminator()\n",
    "D_B = SimpleDiscriminator()\n",
    "\n",
    "G_optim = torch.optim.Adam(list(G_A.parameters()) + list(G_B.parameters()), lr=0.001)\n",
    "D_optim = torch.optim.Adam(list(D_A.parameters()) + list(D_B.parameters()), lr=0.001)"
   ]
  },
  {
   "cell_type": "code",
   "execution_count": null,
   "metadata": {},
   "outputs": [],
   "source": [
    "r2c_gan = R2CGAN(G_A, G_B, D_A, D_B, G_optim, D_optim)"
   ]
  },
  {
   "cell_type": "code",
   "execution_count": null,
   "metadata": {},
   "outputs": [],
   "source": [
    "r2c_gan_ds = R2CGANDataset()"
   ]
  },
  {
   "cell_type": "code",
   "execution_count": null,
   "metadata": {},
   "outputs": [],
   "source": [
    "std_metric = R2CSTDMetric()"
   ]
  },
  {
   "cell_type": "code",
   "execution_count": null,
   "metadata": {},
   "outputs": [],
   "source": [
    "r2c_gan.fit(\n",
    "    train_X=r2c_gan_ds,\n",
    "    max_epochs=200,\n",
    "    batch_size=10,\n",
    "    callbacks=[Verbose(notebook=True)],\n",
    "    metrics={'std': std_metric},\n",
    ")"
   ]
  },
  {
   "cell_type": "code",
   "execution_count": null,
   "metadata": {},
   "outputs": [],
   "source": [
    "class Abc:\n",
    "    pass\n",
    "\n",
    "class Def:\n",
    "    pass"
   ]
  },
  {
   "cell_type": "code",
   "execution_count": null,
   "metadata": {},
   "outputs": [],
   "source": [
    "l = [Abc, Def]\n",
    "\n",
    "ll = [type(el).__name__ for el in l]\n",
    "ll"
   ]
  },
  {
   "cell_type": "code",
   "execution_count": null,
   "metadata": {},
   "outputs": [],
   "source": [
    "plt.plot(std_metric.stdA, label='A')\n",
    "plt.plot(std_metric.stdB, label='B')\n",
    "plt.plot(std_metric.stdA2B, label='A2B')\n",
    "plt.plot(std_metric.stdB2A, label='B2A')\n",
    "plt.legend()\n",
    "plt.show()"
   ]
  },
  {
   "cell_type": "code",
   "execution_count": null,
   "metadata": {},
   "outputs": [],
   "source": [
    "plt.plot(r2c_gan.history.track['train_G_A_loss'], label='G_A_loss')\n",
    "plt.plot(r2c_gan.history.track['train_G_B_loss'], label='G_B_loss')\n",
    "plt.plot(r2c_gan.history.track['train_D_A_loss'], label='D_A_loss')\n",
    "plt.plot(r2c_gan.history.track['train_D_B_loss'], label='D_B_loss')\n",
    "# plt.ylim(0, 4)\n",
    "plt.legend()\n",
    "plt.show()"
   ]
  },
  {
   "cell_type": "code",
   "execution_count": null,
   "metadata": {},
   "outputs": [],
   "source": []
  }
 ],
 "metadata": {
  "kernelspec": {
   "display_name": "Python 3",
   "language": "python",
   "name": "python3"
  },
  "language_info": {
   "codemirror_mode": {
    "name": "ipython",
    "version": 3
   },
   "file_extension": ".py",
   "mimetype": "text/x-python",
   "name": "python",
   "nbconvert_exporter": "python",
   "pygments_lexer": "ipython3",
   "version": "3.8.10"
  },
  "orig_nbformat": 4
 },
 "nbformat": 4,
 "nbformat_minor": 2
}
