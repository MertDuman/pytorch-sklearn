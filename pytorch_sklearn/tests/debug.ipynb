{
 "cells": [
  {
   "cell_type": "code",
   "execution_count": 1,
   "metadata": {},
   "outputs": [],
   "source": [
    "import numpy as np\n",
    "import torch\n",
    "import torch.nn as nn\n",
    "import torch.nn.functional as F\n",
    "import torchvision.transforms as tvt\n",
    "from torch.utils.data import DataLoader, Dataset\n",
    "\n",
    "import matplotlib.pyplot as plt\n",
    "\n",
    "from pytorch_sklearn.neural_network.neural_network import NeuralNetwork\n",
    "from pytorch_sklearn.neural_network.generative_network import CycleGAN\n",
    "from pytorch_sklearn.callbacks.predefined import Verbose, History, EarlyStopping\n",
    "from pytorch_sklearn.utils.progress_bar import print_progress\n",
    "\n",
    "from sonn.building_blocks import Downsample2d, Upsample2d\n",
    "from sonn.norm_layers import LayerNormNLP2d\n",
    "from sonn.superonn_final import SuperONN2d\n",
    "\n",
    "from PIL import Image"
   ]
  },
  {
   "cell_type": "code",
   "execution_count": 2,
   "metadata": {},
   "outputs": [],
   "source": [
    "class SimpleCNN(nn.Module):\n",
    "    def __init__(self):\n",
    "        super().__init__()\n",
    "        self.conv1 = nn.Conv2d(3, 32, kernel_size=3, padding=1)\n",
    "        self.conv2 = nn.Conv2d(32, 32, kernel_size=3, padding=1)\n",
    "        self.conv3 = nn.Conv2d(32, 3, kernel_size=3, padding=1)\n",
    "\n",
    "    def forward(self, x):\n",
    "        x = F.relu(self.conv1(x))\n",
    "        x = F.relu(self.conv2(x))\n",
    "        return self.conv3(x)\n",
    "    \n",
    "class KillerCNN(nn.Module):\n",
    "    def __init__(self):\n",
    "        super().__init__()\n",
    "        self.conv1 = nn.Conv2d(3, 32, kernel_size=3, padding=1)\n",
    "        self.ds1   = Downsample2d(32)  # 32 -> 64\n",
    "        self.conv2 = nn.Conv2d(64, 64, kernel_size=3, padding=1)\n",
    "        self.ds2   = Downsample2d(64)  # 64 -> 128\n",
    "        self.conv3 = nn.Conv2d(128, 128, kernel_size=3, padding=1)\n",
    "        self.up2   = Upsample2d(128)   # 128 -> 64\n",
    "        self.conv4 = nn.Conv2d(64, 64, kernel_size=3, padding=1)\n",
    "        self.up1   = Upsample2d(64)    # 64 -> 32\n",
    "        self.conv5 = nn.Conv2d(32, 3, kernel_size=3, padding=1)\n",
    "\n",
    "    def forward(self, x):\n",
    "        x = F.relu(self.conv1(x))\n",
    "        x = self.ds1(x)\n",
    "        x = F.relu(self.conv2(x))\n",
    "        x = self.ds2(x)\n",
    "        x = F.relu(self.conv3(x))\n",
    "        x = self.up2(x)\n",
    "        x = F.relu(self.conv4(x))\n",
    "        x = self.up1(x)\n",
    "        return self.conv5(x)\n",
    "    \n",
    "class KillerONN(nn.Module):\n",
    "    def __init__(self):\n",
    "        super().__init__()\n",
    "        self.conv1 = SuperONN2d(3, 32, q=3, kernel_size=3, padding=1)\n",
    "        self.ds1   = Downsample2d(32)  # 32 -> 64\n",
    "        self.ln1   = LayerNormNLP2d(64)\n",
    "        self.conv2 = SuperONN2d(64, 64, q=3,  kernel_size=3, padding=1)\n",
    "        self.ds2   = Downsample2d(64)  # 64 -> 128\n",
    "        self.ln2   = LayerNormNLP2d(128)\n",
    "        self.conv3 = SuperONN2d(128, 128, q=3, kernel_size=3, padding=1)\n",
    "        self.up2   = Upsample2d(128)   # 128 -> 64\n",
    "        self.ln3   = LayerNormNLP2d(64)\n",
    "        self.conv4 = SuperONN2d(64, 64, q=3,  kernel_size=3, padding=1)\n",
    "        self.up1   = Upsample2d(64)    # 64 -> 32\n",
    "        self.ln4   = LayerNormNLP2d(32)\n",
    "        self.conv5 = SuperONN2d(32, 3, q=3, kernel_size=3, padding=1)\n",
    "\n",
    "    def forward(self, x):\n",
    "        x = F.relu(self.conv1(x))\n",
    "        x = self.ds1(x)\n",
    "        x = self.ln1(x)\n",
    "        x = F.relu(self.conv2(x))\n",
    "        x = self.ds2(x)\n",
    "        x = self.ln2(x)\n",
    "        x = F.relu(self.conv3(x))\n",
    "        x = self.up2(x)\n",
    "        x = self.ln3(x)\n",
    "        x = F.relu(self.conv4(x))\n",
    "        x = self.up1(x)\n",
    "        x = self.ln4(x)\n",
    "        return self.conv5(x)\n",
    "    \n",
    "class SimpleDiscriminator(nn.Module):\n",
    "    def __init__(self):\n",
    "        super().__init__()\n",
    "        self.conv1 = nn.Conv2d(3, 32, kernel_size=3, padding=1)\n",
    "        self.maxpool1 = nn.MaxPool2d(kernel_size=4)\n",
    "        self.conv2 = nn.Conv2d(32, 32, kernel_size=3, padding=1)\n",
    "        self.maxpool2 = nn.MaxPool2d(kernel_size=4)\n",
    "        self.conv3 = nn.Conv2d(32, 1, kernel_size=3, padding=1)\n",
    "        self.maxpool3 = nn.MaxPool2d(kernel_size=2)\n",
    "\n",
    "    def forward(self, x):\n",
    "        x = F.relu(self.maxpool1(self.conv1(x)))\n",
    "        x = F.relu(self.maxpool2(self.conv2(x)))\n",
    "        x = self.maxpool3(self.conv3(x))\n",
    "        return x.view(-1, 1)"
   ]
  },
  {
   "cell_type": "code",
   "execution_count": 3,
   "metadata": {},
   "outputs": [],
   "source": [
    "model = SimpleDiscriminator()\n",
    "optim = torch.optim.Adam(model.parameters(), lr=0.001)\n",
    "crit = nn.MSELoss()"
   ]
  },
  {
   "cell_type": "code",
   "execution_count": 4,
   "metadata": {},
   "outputs": [],
   "source": [
    "X = torch.randn(10, 3, 32, 32)\n",
    "y = torch.randn(10, 1)"
   ]
  },
  {
   "cell_type": "code",
   "execution_count": 5,
   "metadata": {},
   "outputs": [],
   "source": [
    "net = NeuralNetwork(model, optim, crit)"
   ]
  },
  {
   "cell_type": "code",
   "execution_count": 6,
   "metadata": {},
   "outputs": [
    {
     "data": {
      "text/plain": [
       "[<pytorch_sklearn.callbacks.predefined.History at 0x142c603ab50>]"
      ]
     },
     "execution_count": 6,
     "metadata": {},
     "output_type": "execute_result"
    }
   ],
   "source": [
    "net.callbacks"
   ]
  },
  {
   "cell_type": "code",
   "execution_count": 7,
   "metadata": {},
   "outputs": [
    {
     "name": "stdout",
     "output_type": "stream",
     "text": [
      "Epoch 1/50\n",
      "1/1 [====================] - train_loss: 1.365 - train_l1loss: 0.983 - train_l2loss: 1.365 - Time: 0.50 - ETA: 0.00\n",
      "Epoch 2/50\n",
      "1/1 [====================] - train_loss: 1.336 - train_l1loss: 0.954 - train_l2loss: 1.336 - Time: 0.01 - ETA: 0.00\n",
      "Epoch 3/50\n",
      "1/1 [====================] - train_loss: 1.304 - train_l1loss: 0.929 - train_l2loss: 1.304 - Time: 0.01 - ETA: 0.00\n",
      "Epoch 4/50\n",
      "1/1 [====================] - train_loss: 1.268 - train_l1loss: 0.913 - train_l2loss: 1.268 - Time: 0.01 - ETA: 0.00\n",
      "Epoch 5/50\n",
      "1/1 [====================] - train_loss: 1.223 - train_l1loss: 0.895 - train_l2loss: 1.223 - Time: 0.01 - ETA: 0.00\n",
      "Epoch 6/50\n",
      "1/1 [====================] - train_loss: 1.180 - train_l1loss: 0.878 - train_l2loss: 1.180 - Time: 0.01 - ETA: 0.00\n",
      "Epoch 7/50\n",
      "1/1 [====================] - train_loss: 1.137 - train_l1loss: 0.860 - train_l2loss: 1.137 - Time: 0.01 - ETA: 0.00\n",
      "Epoch 8/50\n",
      "1/1 [====================] - train_loss: 1.091 - train_l1loss: 0.841 - train_l2loss: 1.091 - Time: 0.01 - ETA: 0.00\n",
      "Epoch 9/50\n",
      "1/1 [====================] - train_loss: 1.046 - train_l1loss: 0.824 - train_l2loss: 1.046 - Time: 0.01 - ETA: 0.00\n",
      "Epoch 10/50\n",
      "1/1 [====================] - train_loss: 0.998 - train_l1loss: 0.806 - train_l2loss: 0.998 - Time: 0.00 - ETA: 0.00\n",
      "Epoch 11/50\n",
      "1/1 [====================] - train_loss: 0.949 - train_l1loss: 0.788 - train_l2loss: 0.949 - Time: 0.00 - ETA: 0.00\n",
      "Epoch 12/50\n",
      "1/1 [====================] - train_loss: 0.900 - train_l1loss: 0.769 - train_l2loss: 0.900 - Time: 0.01 - ETA: 0.00\n",
      "Epoch 13/50\n",
      "1/1 [====================] - train_loss: 0.855 - train_l1loss: 0.750 - train_l2loss: 0.855 - Time: 0.00 - ETA: 0.00\n",
      "Epoch 14/50\n",
      "1/1 [====================] - train_loss: 0.808 - train_l1loss: 0.735 - train_l2loss: 0.808 - Time: 0.01 - ETA: 0.00\n",
      "Epoch 15/50\n",
      "1/1 [====================] - train_loss: 0.764 - train_l1loss: 0.715 - train_l2loss: 0.764 - Time: 0.01 - ETA: 0.00\n",
      "Epoch 16/50\n",
      "1/1 [====================] - train_loss: 0.716 - train_l1loss: 0.689 - train_l2loss: 0.716 - Time: 0.01 - ETA: 0.00\n",
      "Epoch 17/50\n",
      "1/1 [====================] - train_loss: 0.668 - train_l1loss: 0.660 - train_l2loss: 0.668 - Time: 0.01 - ETA: 0.00\n",
      "Epoch 18/50\n",
      "1/1 [====================] - train_loss: 0.627 - train_l1loss: 0.633 - train_l2loss: 0.627 - Time: 0.01 - ETA: 0.00\n",
      "Epoch 19/50\n",
      "1/1 [====================] - train_loss: 0.575 - train_l1loss: 0.611 - train_l2loss: 0.575 - Time: 0.01 - ETA: 0.00\n",
      "Epoch 20/50\n",
      "1/1 [====================] - train_loss: 0.530 - train_l1loss: 0.591 - train_l2loss: 0.530 - Time: 0.01 - ETA: 0.00\n",
      "Epoch 21/50\n",
      "1/1 [====================] - train_loss: 0.486 - train_l1loss: 0.568 - train_l2loss: 0.486 - Time: 0.01 - ETA: 0.00\n",
      "Epoch 22/50\n",
      "1/1 [====================] - train_loss: 0.440 - train_l1loss: 0.539 - train_l2loss: 0.440 - Time: 0.01 - ETA: 0.00\n",
      "Epoch 23/50\n",
      "1/1 [====================] - train_loss: 0.395 - train_l1loss: 0.508 - train_l2loss: 0.395 - Time: 0.01 - ETA: 0.00\n",
      "Epoch 24/50\n",
      "1/1 [====================] - train_loss: 0.359 - train_l1loss: 0.481 - train_l2loss: 0.359 - Time: 0.01 - ETA: 0.00\n",
      "Epoch 25/50\n",
      "1/1 [====================] - train_loss: 0.317 - train_l1loss: 0.460 - train_l2loss: 0.317 - Time: 0.01 - ETA: 0.00\n",
      "Epoch 26/50\n",
      "1/1 [====================] - train_loss: 0.281 - train_l1loss: 0.436 - train_l2loss: 0.281 - Time: 0.01 - ETA: 0.00\n",
      "Epoch 27/50\n",
      "1/1 [====================] - train_loss: 0.242 - train_l1loss: 0.402 - train_l2loss: 0.242 - Time: 0.01 - ETA: 0.00\n",
      "Epoch 28/50\n",
      "1/1 [====================] - train_loss: 0.205 - train_l1loss: 0.364 - train_l2loss: 0.205 - Time: 0.01 - ETA: 0.00\n",
      "Epoch 29/50\n",
      "1/1 [====================] - train_loss: 0.173 - train_l1loss: 0.327 - train_l2loss: 0.173 - Time: 0.01 - ETA: 0.00\n",
      "Epoch 30/50\n",
      "1/1 [====================] - train_loss: 0.142 - train_l1loss: 0.295 - train_l2loss: 0.142 - Time: 0.01 - ETA: 0.00\n",
      "Epoch 31/50\n",
      "1/1 [====================] - train_loss: 0.114 - train_l1loss: 0.268 - train_l2loss: 0.114 - Time: 0.01 - ETA: 0.00\n",
      "Epoch 32/50\n",
      "1/1 [====================] - train_loss: 0.090 - train_l1loss: 0.242 - train_l2loss: 0.090 - Time: 0.01 - ETA: 0.00\n",
      "Epoch 33/50\n",
      "1/1 [====================] - train_loss: 0.068 - train_l1loss: 0.212 - train_l2loss: 0.068 - Time: 0.01 - ETA: 0.00\n",
      "Epoch 34/50\n",
      "1/1 [====================] - train_loss: 0.051 - train_l1loss: 0.180 - train_l2loss: 0.051 - Time: 0.01 - ETA: 0.00\n",
      "Epoch 35/50\n",
      "1/1 [====================] - train_loss: 0.035 - train_l1loss: 0.149 - train_l2loss: 0.035 - Time: 0.01 - ETA: 0.00\n",
      "Epoch 36/50\n",
      "1/1 [====================] - train_loss: 0.023 - train_l1loss: 0.120 - train_l2loss: 0.023 - Time: 0.01 - ETA: 0.00\n",
      "Epoch 37/50\n",
      "1/1 [====================] - train_loss: 0.014 - train_l1loss: 0.091 - train_l2loss: 0.014 - Time: 0.01 - ETA: 0.00\n",
      "Epoch 38/50\n",
      "1/1 [====================] - train_loss: 0.007 - train_l1loss: 0.063 - train_l2loss: 0.007 - Time: 0.01 - ETA: 0.00\n",
      "Epoch 39/50\n",
      "1/1 [====================] - train_loss: 0.003 - train_l1loss: 0.046 - train_l2loss: 0.003 - Time: 0.01 - ETA: 0.00\n",
      "Epoch 40/50\n",
      "1/1 [====================] - train_loss: 0.001 - train_l1loss: 0.020 - train_l2loss: 0.001 - Time: 0.01 - ETA: 0.00\n",
      "Epoch 41/50\n",
      "1/1 [====================] - train_loss: 0.000 - train_l1loss: 0.018 - train_l2loss: 0.000 - Time: 0.01 - ETA: 0.00\n",
      "Epoch 42/50\n",
      "1/1 [====================] - train_loss: 0.002 - train_l1loss: 0.030 - train_l2loss: 0.002 - Time: 0.01 - ETA: 0.00\n",
      "Epoch 43/50\n",
      "1/1 [====================] - train_loss: 0.003 - train_l1loss: 0.049 - train_l2loss: 0.003 - Time: 0.01 - ETA: 0.00\n",
      "Epoch 44/50\n",
      "1/1 [====================] - train_loss: 0.006 - train_l1loss: 0.066 - train_l2loss: 0.006 - Time: 0.01 - ETA: 0.00\n",
      "Epoch 45/50\n",
      "1/1 [====================] - train_loss: 0.008 - train_l1loss: 0.075 - train_l2loss: 0.008 - Time: 0.01 - ETA: 0.00\n",
      "Epoch 46/50\n",
      "1/1 [====================] - train_loss: 0.010 - train_l1loss: 0.080 - train_l2loss: 0.010 - Time: 0.01 - ETA: 0.00\n",
      "Epoch 47/50\n",
      "1/1 [====================] - train_loss: 0.011 - train_l1loss: 0.085 - train_l2loss: 0.011 - Time: 0.01 - ETA: 0.00\n",
      "Epoch 48/50\n",
      "1/1 [====================] - train_loss: 0.012 - train_l1loss: 0.090 - train_l2loss: 0.012 - Time: 0.01 - ETA: 0.00\n",
      "Epoch 49/50\n",
      "1/1 [====================] - train_loss: 0.012 - train_l1loss: 0.089 - train_l2loss: 0.012 - Time: 0.01 - ETA: 0.00\n",
      "Epoch 50/50\n",
      "1/1 [====================] - train_loss: 0.010 - train_l1loss: 0.082 - train_l2loss: 0.010 - Time: 0.01 - ETA: 0.00\n"
     ]
    }
   ],
   "source": [
    "net.fit(\n",
    "    train_X=X,\n",
    "    train_y=y,\n",
    "    max_epochs=50,\n",
    "    callbacks=[Verbose(notebook=True)],\n",
    "    metrics={'l1loss': nn.L1Loss(), 'l2loss': nn.MSELoss()},\n",
    ")"
   ]
  },
  {
   "cell_type": "code",
   "execution_count": 8,
   "metadata": {},
   "outputs": [
    {
     "name": "stdout",
     "output_type": "stream",
     "text": [
      "tensor([[-0.1691],\n",
      "        [-1.0707],\n",
      "        [ 0.2636],\n",
      "        [-1.5670],\n",
      "        [-0.3387],\n",
      "        [-1.7453],\n",
      "        [ 0.4953],\n",
      "        [ 2.1261],\n",
      "        [ 1.8542],\n",
      "        [-0.6468]], device='cuda:0')\n",
      "tensor(0.0090)\n"
     ]
    }
   ],
   "source": [
    "net.predict(X)\n",
    "gen = net.predict_generator(X)\n",
    "for i in gen:\n",
    "    print(i)\n",
    "score = net.score(X, y)\n",
    "print(score)"
   ]
  },
  {
   "cell_type": "code",
   "execution_count": 9,
   "metadata": {},
   "outputs": [],
   "source": [
    "class CycleGANDataset(Dataset):\n",
    "    def __init__(self):\n",
    "        self.A = torch.randn(10, 3, 32, 32) * .1\n",
    "        self.B = torch.randn(10, 3, 32, 32) * .8\n",
    "\n",
    "    def __len__(self):\n",
    "        return 10\n",
    "    \n",
    "    def __getitem__(self, index):\n",
    "        return self.A[index], self.B[index]"
   ]
  },
  {
   "cell_type": "code",
   "execution_count": 10,
   "metadata": {},
   "outputs": [],
   "source": [
    "class ZenDataset(Dataset):\n",
    "    def __init__(self):\n",
    "        self.Zen = tvt.ToTensor()(Image.open('zen2.jpg')).unsqueeze(0)\n",
    "        self.Bro = tvt.ToTensor()(Image.open('bro.jpg')).unsqueeze(0)\n",
    "\n",
    "    def __len__(self):\n",
    "        return 1\n",
    "    \n",
    "    def __getitem__(self, index):\n",
    "        return self.Zen[index], self.Bro[index]"
   ]
  },
  {
   "cell_type": "code",
   "execution_count": 11,
   "metadata": {},
   "outputs": [],
   "source": [
    "class STDMetric:\n",
    "    def __init__(self):\n",
    "        self.stdA = []\n",
    "        self.stdB = []\n",
    "        self.stdA2B = []\n",
    "        self.stdB2A = []\n",
    "\n",
    "    def __call__(self, batch_out, batch_y):\n",
    "        A2B, B2A = batch_out\n",
    "        A, B = batch_y\n",
    "        self.stdA.append(A.std().item())\n",
    "        self.stdB.append(B.std().item())\n",
    "        self.stdA2B.append(A2B.std().item())\n",
    "        self.stdB2A.append(B2A.std().item())\n",
    "        return 0"
   ]
  },
  {
   "cell_type": "code",
   "execution_count": 20,
   "metadata": {},
   "outputs": [],
   "source": [
    "G_A = SimpleCNN()\n",
    "G_B = SimpleCNN()\n",
    "# G_A = KillerCNN()\n",
    "# G_B = KillerCNN()\n",
    "# G_A = KillerONN()\n",
    "# G_B = KillerONN()\n",
    "D_A = SimpleDiscriminator()\n",
    "D_B = SimpleDiscriminator()\n",
    "\n",
    "G_optim = torch.optim.Adam(list(G_A.parameters()) + list(G_B.parameters()), lr=0.001)\n",
    "D_optim = torch.optim.Adam(list(D_A.parameters()) + list(D_B.parameters()), lr=0.001)"
   ]
  },
  {
   "cell_type": "code",
   "execution_count": 21,
   "metadata": {},
   "outputs": [],
   "source": [
    "cycle_gan = CycleGAN(G_A, G_B, D_A, D_B, G_optim, D_optim)"
   ]
  },
  {
   "cell_type": "code",
   "execution_count": 16,
   "metadata": {},
   "outputs": [],
   "source": [
    "cycle_gan_ds = CycleGANDataset()\n",
    "zen_ds = ZenDataset()"
   ]
  },
  {
   "cell_type": "code",
   "execution_count": 17,
   "metadata": {},
   "outputs": [],
   "source": [
    "std_metric = STDMetric()"
   ]
  },
  {
   "cell_type": "code",
   "execution_count": 23,
   "metadata": {},
   "outputs": [
    {
     "name": "stdout",
     "output_type": "stream",
     "text": [
      "Epoch 51/100\n",
      "1/1 [====================] - train_loss: 1.646 - train_std: 6.528 - Time: 0.28 - ETA: 0.00\n",
      "Epoch 52/100\n",
      "1/1 [====================] - train_loss: 1.634 - train_std: 6.421 - Time: 0.04 - ETA: 0.00\n",
      "Epoch 53/100\n",
      "1/1 [====================] - train_loss: 1.626 - train_std: 6.314 - Time: 0.03 - ETA: 0.00\n",
      "Epoch 54/100\n",
      "1/1 [====================] - train_loss: 1.618 - train_std: 6.213 - Time: 0.03 - ETA: 0.00\n",
      "Epoch 55/100\n",
      "1/1 [====================] - train_loss: 1.606 - train_std: 6.125 - Time: 0.03 - ETA: 0.00\n",
      "Epoch 56/100\n",
      "1/1 [====================] - train_loss: 1.590 - train_std: 6.046 - Time: 0.03 - ETA: 0.00\n",
      "Epoch 57/100\n",
      "1/1 [====================] - train_loss: 1.575 - train_std: 5.975 - Time: 0.03 - ETA: 0.00\n",
      "Epoch 58/100\n",
      "1/1 [====================] - train_loss: 1.560 - train_std: 5.902 - Time: 0.03 - ETA: 0.00\n",
      "Epoch 59/100\n",
      "1/1 [====================] - train_loss: 1.545 - train_std: 5.816 - Time: 0.03 - ETA: 0.00\n",
      "Epoch 60/100\n",
      "1/1 [====================] - train_loss: 1.533 - train_std: 5.711 - Time: 0.03 - ETA: 0.00\n",
      "Epoch 61/100\n",
      "1/1 [====================] - train_loss: 1.524 - train_std: 5.584 - Time: 0.03 - ETA: 0.00\n",
      "Epoch 62/100\n",
      "1/1 [====================] - train_loss: 1.519 - train_std: 5.445 - Time: 0.03 - ETA: 0.00\n",
      "Epoch 63/100\n",
      "1/1 [====================] - train_loss: 1.514 - train_std: 5.307 - Time: 0.03 - ETA: 0.00\n",
      "Epoch 64/100\n",
      "1/1 [====================] - train_loss: 1.510 - train_std: 5.179 - Time: 0.03 - ETA: 0.00\n",
      "Epoch 65/100\n",
      "1/1 [====================] - train_loss: 1.499 - train_std: 5.075 - Time: 0.03 - ETA: 0.00\n",
      "Epoch 66/100\n",
      "1/1 [====================] - train_loss: 1.487 - train_std: 4.994 - Time: 0.03 - ETA: 0.00\n",
      "Epoch 67/100\n",
      "1/1 [====================] - train_loss: 1.477 - train_std: 4.928 - Time: 0.03 - ETA: 0.00\n",
      "Epoch 68/100\n",
      "1/1 [====================] - train_loss: 1.467 - train_std: 4.877 - Time: 0.03 - ETA: 0.00\n",
      "Epoch 69/100\n",
      "1/1 [====================] - train_loss: 1.466 - train_std: 4.819 - Time: 0.03 - ETA: 0.00\n",
      "Epoch 70/100\n",
      "1/1 [====================] - train_loss: 1.476 - train_std: 4.752 - Time: 0.03 - ETA: 0.00\n",
      "Epoch 71/100\n",
      "1/1 [====================] - train_loss: 1.491 - train_std: 4.686 - Time: 0.03 - ETA: 0.00\n",
      "Epoch 72/100\n",
      "1/1 [====================] - train_loss: 1.515 - train_std: 4.627 - Time: 0.03 - ETA: 0.00\n",
      "Epoch 73/100\n",
      "1/1 [====================] - train_loss: 1.541 - train_std: 4.596 - Time: 0.04 - ETA: 0.00\n",
      "Epoch 74/100\n",
      "1/1 [====================] - train_loss: 1.568 - train_std: 4.594 - Time: 0.04 - ETA: 0.00\n",
      "Epoch 75/100\n",
      "1/1 [====================] - train_loss: 1.597 - train_std: 4.615 - Time: 0.03 - ETA: 0.00\n",
      "Epoch 76/100\n",
      "1/1 [====================] - train_loss: 1.616 - train_std: 4.672 - Time: 0.03 - ETA: 0.00\n",
      "Epoch 77/100\n",
      "1/1 [====================] - train_loss: 1.628 - train_std: 4.748 - Time: 0.04 - ETA: 0.00\n",
      "Epoch 78/100\n",
      "1/1 [====================] - train_loss: 1.638 - train_std: 4.819 - Time: 0.03 - ETA: 0.00\n",
      "Epoch 79/100\n",
      "1/1 [====================] - train_loss: 1.641 - train_std: 4.870 - Time: 0.03 - ETA: 0.00\n",
      "Epoch 80/100\n",
      "1/1 [====================] - train_loss: 1.637 - train_std: 4.886 - Time: 0.03 - ETA: 0.00\n",
      "Epoch 81/100\n",
      "1/1 [====================] - train_loss: 1.619 - train_std: 4.862 - Time: 0.03 - ETA: 0.00\n",
      "Epoch 82/100\n",
      "1/1 [====================] - train_loss: 1.585 - train_std: 4.802 - Time: 0.03 - ETA: 0.00\n",
      "Epoch 83/100\n",
      "1/1 [====================] - train_loss: 1.540 - train_std: 4.712 - Time: 0.03 - ETA: 0.00\n",
      "Epoch 84/100\n",
      "1/1 [====================] - train_loss: 1.491 - train_std: 4.621 - Time: 0.03 - ETA: 0.00\n",
      "Epoch 85/100\n",
      "1/1 [====================] - train_loss: 1.461 - train_std: 4.542 - Time: 0.03 - ETA: 0.00\n",
      "Epoch 86/100\n",
      "1/1 [====================] - train_loss: 1.439 - train_std: 4.515 - Time: 0.03 - ETA: 0.00\n",
      "Epoch 87/100\n",
      "1/1 [====================] - train_loss: 1.447 - train_std: 4.523 - Time: 0.03 - ETA: 0.00\n",
      "Epoch 88/100\n",
      "1/1 [====================] - train_loss: 1.450 - train_std: 4.571 - Time: 0.03 - ETA: 0.00\n",
      "Epoch 89/100\n",
      "1/1 [====================] - train_loss: 1.454 - train_std: 4.631 - Time: 0.03 - ETA: 0.00\n",
      "Epoch 90/100\n",
      "1/1 [====================] - train_loss: 1.460 - train_std: 4.662 - Time: 0.03 - ETA: 0.00\n",
      "Epoch 91/100\n",
      "1/1 [====================] - train_loss: 1.471 - train_std: 4.636 - Time: 0.03 - ETA: 0.00\n",
      "Epoch 92/100\n",
      "1/1 [====================] - train_loss: 1.472 - train_std: 4.564 - Time: 0.04 - ETA: 0.00\n",
      "Epoch 93/100\n",
      "1/1 [====================] - train_loss: 1.480 - train_std: 4.473 - Time: 0.03 - ETA: 0.00\n",
      "Epoch 94/100\n",
      "1/1 [====================] - train_loss: 1.490 - train_std: 4.424 - Time: 0.03 - ETA: 0.00\n",
      "Epoch 95/100\n",
      "1/1 [====================] - train_loss: 1.500 - train_std: 4.441 - Time: 0.03 - ETA: 0.00\n",
      "Epoch 96/100\n",
      "1/1 [====================] - train_loss: 1.497 - train_std: 4.516 - Time: 0.03 - ETA: 0.00\n",
      "Epoch 97/100\n",
      "1/1 [====================] - train_loss: 1.500 - train_std: 4.586 - Time: 0.03 - ETA: 0.00\n",
      "Epoch 98/100\n",
      "1/1 [====================] - train_loss: 1.494 - train_std: 4.629 - Time: 0.03 - ETA: 0.00\n",
      "Epoch 99/100\n",
      "1/1 [====================] - train_loss: 1.495 - train_std: 4.620 - Time: 0.03 - ETA: 0.00\n",
      "Epoch 100/100\n",
      "1/1 [====================] - train_loss: 1.496 - train_std: 4.579 - Time: 0.03 - ETA: 0.00\n"
     ]
    }
   ],
   "source": [
    "cycle_gan.fit(\n",
    "    train_X=cycle_gan_ds,\n",
    "    max_epochs=50,\n",
    "    callbacks=[Verbose(notebook=True)],\n",
    "    metrics={'std': std_metric},\n",
    ")"
   ]
  },
  {
   "cell_type": "code",
   "execution_count": 18,
   "metadata": {},
   "outputs": [
    {
     "data": {
      "image/png": "[encoded data removed]",
      "text/plain": [
       "<Figure size 432x288 with 1 Axes>"
      ]
     },
     "metadata": {
      "needs_background": "light"
     },
     "output_type": "display_data"
    }
   ],
   "source": [
    "plt.plot(std_metric.stdA, label='A')\n",
    "plt.plot(std_metric.stdB, label='B')\n",
    "plt.plot(std_metric.stdA2B, label='A2B')\n",
    "plt.plot(std_metric.stdB2A, label='B2A')\n",
    "plt.legend()\n",
    "plt.show()"
   ]
  },
  {
   "cell_type": "code",
   "execution_count": 19,
   "metadata": {},
   "outputs": [
    {
     "data": {
      "image/png": "[encoded data removed]",
      "text/plain": [
       "<Figure size 432x288 with 1 Axes>"
      ]
     },
     "metadata": {
      "needs_background": "light"
     },
     "output_type": "display_data"
    }
   ],
   "source": [
    "plt.plot(cycle_gan.history.track['train_G_A_loss'], label='G_A_loss')\n",
    "plt.plot(cycle_gan.history.track['train_G_B_loss'], label='G_B_loss')\n",
    "plt.plot(cycle_gan.history.track['train_D_A_loss'], label='D_A_loss')\n",
    "plt.plot(cycle_gan.history.track['train_D_B_loss'], label='D_B_loss')\n",
    "plt.ylim(0, 4)\n",
    "plt.legend()\n",
    "plt.show()"
   ]
  },
  {
   "cell_type": "code",
   "execution_count": 20,
   "metadata": {},
   "outputs": [
    {
     "name": "stdout",
     "output_type": "stream",
     "text": [
      "tensor([8.1115, 0.8833])\n",
      "4\n"
     ]
    }
   ],
   "source": [
    "preds = cycle_gan.predict(cycle_gan_ds)\n",
    "score = cycle_gan.score(cycle_gan_ds)\n",
    "print(score)\n",
    "out_gen = cycle_gan.predict_generator(cycle_gan_ds)\n",
    "for i in out_gen:\n",
    "    print(i.__len__())"
   ]
  },
  {
   "cell_type": "code",
   "execution_count": 21,
   "metadata": {},
   "outputs": [],
   "source": [
    "NeuralNetwork.save_class(cycle_gan, 'cycle_gan.pkl')"
   ]
  },
  {
   "cell_type": "code",
   "execution_count": 22,
   "metadata": {},
   "outputs": [],
   "source": [
    "NeuralNetwork.load_class(cycle_gan, [], 'cycle_gan.pkl')"
   ]
  },
  {
   "cell_type": "code",
   "execution_count": 20,
   "metadata": {},
   "outputs": [
    {
     "name": "stderr",
     "output_type": "stream",
     "text": [
      "Clipping input data to the valid range for imshow with RGB data ([0..1] for floats or [0..255] for integers).\n",
      "Clipping input data to the valid range for imshow with RGB data ([0..1] for floats or [0..255] for integers).\n",
      "Clipping input data to the valid range for imshow with RGB data ([0..1] for floats or [0..255] for integers).\n",
      "Clipping input data to the valid range for imshow with RGB data ([0..1] for floats or [0..255] for integers).\n"
     ]
    },
    {
     "data": {
      "image/png": "[encoded data removed]",
      "text/plain": [
       "<Figure size 720x720 with 4 Axes>"
      ]
     },
     "metadata": {
      "needs_background": "light"
     },
     "output_type": "display_data"
    }
   ],
   "source": [
    "plt.figure(figsize=(10, 10))\n",
    "plt.subplot(2, 2, 1)\n",
    "plt.imshow(preds[0][0].permute(1, 2, 0).cpu(), vmin=preds[0][0].min(), vmax=preds[0][0].max())\n",
    "plt.title('A2B')\n",
    "plt.axis('off')\n",
    "plt.subplot(2, 2, 2)\n",
    "plt.imshow(preds[1][0].permute(1, 2, 0).cpu(), vmin=preds[1][0].min(), vmax=preds[1][0].max())\n",
    "plt.title('B2A')\n",
    "plt.axis('off')\n",
    "plt.subplot(2, 2, 3)\n",
    "plt.imshow(preds[2][0].permute(1, 2, 0).cpu(), vmin=preds[2][0].min(), vmax=preds[2][0].max())\n",
    "plt.title('A2B2A')\n",
    "plt.axis('off')\n",
    "plt.subplot(2, 2, 4)\n",
    "plt.imshow(preds[3][0].permute(1, 2, 0).cpu(), vmin=preds[3][0].min(), vmax=preds[3][0].max())\n",
    "plt.title('B2A2B')\n",
    "plt.axis('off')\n",
    "plt.gcf().tight_layout(w_pad=-10)\n",
    "plt.show()"
   ]
  },
  {
   "cell_type": "code",
   "execution_count": 44,
   "metadata": {},
   "outputs": [
    {
     "data": {
      "text/plain": [
       "{'a': 1, 'b': 2, 'c': 3}"
      ]
     },
     "execution_count": 44,
     "metadata": {},
     "output_type": "execute_result"
    }
   ],
   "source": [
    "a = {'a': 1, 'b': 2}\n",
    "b = {**a, 'c': 3}\n",
    "b"
   ]
  },
  {
   "cell_type": "code",
   "execution_count": 31,
   "metadata": {},
   "outputs": [
    {
     "data": {
      "text/plain": [
       "[tensor(0.7727, device='cuda:0'),\n",
       " tensor(0.0985, device='cuda:0'),\n",
       " tensor(0.0920, device='cuda:0'),\n",
       " tensor(0.7303, device='cuda:0')]"
      ]
     },
     "execution_count": 31,
     "metadata": {},
     "output_type": "execute_result"
    }
   ],
   "source": [
    "[pred.std() for pred in preds]"
   ]
  },
  {
   "cell_type": "code",
   "execution_count": 18,
   "metadata": {},
   "outputs": [],
   "source": [
    "from typing import Iterable, Tuple, List, Sequence"
   ]
  },
  {
   "cell_type": "code",
   "execution_count": 255,
   "metadata": {},
   "outputs": [],
   "source": [
    "a = []\n",
    "for i in range(5):\n",
    "    a.append([torch.randn(3,1,5,5), torch.randn(3,1,5,5), torch.randn(3,1,5,5), 5, 3, [1,2]])\n",
    "    #a.append(torch.randn(3,1,5,5))"
   ]
  },
  {
   "cell_type": "code",
   "execution_count": 256,
   "metadata": {},
   "outputs": [],
   "source": [
    "def stack_if_list_of_list(arr):\n",
    "    if isinstance(arr[0], (list, tuple)):\n",
    "        ret = []\n",
    "        for col in zip(*arr):\n",
    "            if isinstance(col[0], torch.Tensor):\n",
    "                ret.append(torch.cat(col))\n",
    "            else:\n",
    "                ret.append(torch.tensor(np.stack(col)))\n",
    "        return ret\n",
    "    else:\n",
    "        return torch.cat(arr)"
   ]
  },
  {
   "cell_type": "code",
   "execution_count": 258,
   "metadata": {},
   "outputs": [
    {
     "data": {
      "text/plain": [
       "tensor([[1, 2],\n",
       "        [1, 2],\n",
       "        [1, 2],\n",
       "        [1, 2],\n",
       "        [1, 2]], dtype=torch.int32)"
      ]
     },
     "execution_count": 258,
     "metadata": {},
     "output_type": "execute_result"
    }
   ],
   "source": [
    "stack_if_list_of_list(a)[-1]"
   ]
  },
  {
   "cell_type": "code",
   "execution_count": 50,
   "metadata": {},
   "outputs": [
    {
     "ename": "TypeError",
     "evalue": "expected Tensor as element 0 in argument 0, but got list",
     "output_type": "error",
     "traceback": [
      "\u001b[1;31m---------------------------------------------------------------------------\u001b[0m",
      "\u001b[1;31mTypeError\u001b[0m                                 Traceback (most recent call last)",
      "\u001b[1;32m<ipython-input-50-d61523bdc4bd>\u001b[0m in \u001b[0;36m<module>\u001b[1;34m\u001b[0m\n\u001b[1;32m----> 1\u001b[1;33m \u001b[0mtorch\u001b[0m\u001b[1;33m.\u001b[0m\u001b[0mcat\u001b[0m\u001b[1;33m(\u001b[0m\u001b[0ma\u001b[0m\u001b[1;33m)\u001b[0m\u001b[1;33m\u001b[0m\u001b[1;33m\u001b[0m\u001b[0m\n\u001b[0m",
      "\u001b[1;31mTypeError\u001b[0m: expected Tensor as element 0 in argument 0, but got list"
     ]
    }
   ],
   "source": [
    "torch.cat(a)"
   ]
  },
  {
   "cell_type": "code",
   "execution_count": 45,
   "metadata": {},
   "outputs": [
    {
     "ename": "ValueError",
     "evalue": "setting an array element with a sequence. The requested array has an inhomogeneous shape after 1 dimensions. The detected shape was (2,) + inhomogeneous part.",
     "output_type": "error",
     "traceback": [
      "\u001b[1;31m---------------------------------------------------------------------------\u001b[0m",
      "\u001b[1;31mValueError\u001b[0m                                Traceback (most recent call last)",
      "\u001b[1;32m<ipython-input-45-78c5609233eb>\u001b[0m in \u001b[0;36m<module>\u001b[1;34m\u001b[0m\n\u001b[1;32m----> 1\u001b[1;33m \u001b[0mnp\u001b[0m\u001b[1;33m.\u001b[0m\u001b[0mstack\u001b[0m\u001b[1;33m(\u001b[0m\u001b[0ma\u001b[0m\u001b[1;33m)\u001b[0m\u001b[1;33m\u001b[0m\u001b[1;33m\u001b[0m\u001b[0m\n\u001b[0m",
      "\u001b[1;32mc:\\Python\\Python38\\lib\\site-packages\\numpy\\core\\overrides.py\u001b[0m in \u001b[0;36mstack\u001b[1;34m(*args, **kwargs)\u001b[0m\n",
      "\u001b[1;32mc:\\Python\\Python38\\lib\\site-packages\\numpy\\core\\shape_base.py\u001b[0m in \u001b[0;36mstack\u001b[1;34m(arrays, axis, out, dtype, casting)\u001b[0m\n\u001b[0;32m    456\u001b[0m         \u001b[0m_arrays_for_stack_dispatcher\u001b[0m\u001b[1;33m(\u001b[0m\u001b[0marrays\u001b[0m\u001b[1;33m,\u001b[0m \u001b[0mstacklevel\u001b[0m\u001b[1;33m=\u001b[0m\u001b[1;36m2\u001b[0m\u001b[1;33m)\u001b[0m\u001b[1;33m\u001b[0m\u001b[1;33m\u001b[0m\u001b[0m\n\u001b[0;32m    457\u001b[0m \u001b[1;33m\u001b[0m\u001b[0m\n\u001b[1;32m--> 458\u001b[1;33m     \u001b[0marrays\u001b[0m \u001b[1;33m=\u001b[0m \u001b[1;33m[\u001b[0m\u001b[0masanyarray\u001b[0m\u001b[1;33m(\u001b[0m\u001b[0marr\u001b[0m\u001b[1;33m)\u001b[0m \u001b[1;32mfor\u001b[0m \u001b[0marr\u001b[0m \u001b[1;32min\u001b[0m \u001b[0marrays\u001b[0m\u001b[1;33m]\u001b[0m\u001b[1;33m\u001b[0m\u001b[1;33m\u001b[0m\u001b[0m\n\u001b[0m\u001b[0;32m    459\u001b[0m     \u001b[1;32mif\u001b[0m \u001b[1;32mnot\u001b[0m \u001b[0marrays\u001b[0m\u001b[1;33m:\u001b[0m\u001b[1;33m\u001b[0m\u001b[1;33m\u001b[0m\u001b[0m\n\u001b[0;32m    460\u001b[0m         \u001b[1;32mraise\u001b[0m \u001b[0mValueError\u001b[0m\u001b[1;33m(\u001b[0m\u001b[1;34m'need at least one array to stack'\u001b[0m\u001b[1;33m)\u001b[0m\u001b[1;33m\u001b[0m\u001b[1;33m\u001b[0m\u001b[0m\n",
      "\u001b[1;32mc:\\Python\\Python38\\lib\\site-packages\\numpy\\core\\shape_base.py\u001b[0m in \u001b[0;36m<listcomp>\u001b[1;34m(.0)\u001b[0m\n\u001b[0;32m    456\u001b[0m         \u001b[0m_arrays_for_stack_dispatcher\u001b[0m\u001b[1;33m(\u001b[0m\u001b[0marrays\u001b[0m\u001b[1;33m,\u001b[0m \u001b[0mstacklevel\u001b[0m\u001b[1;33m=\u001b[0m\u001b[1;36m2\u001b[0m\u001b[1;33m)\u001b[0m\u001b[1;33m\u001b[0m\u001b[1;33m\u001b[0m\u001b[0m\n\u001b[0;32m    457\u001b[0m \u001b[1;33m\u001b[0m\u001b[0m\n\u001b[1;32m--> 458\u001b[1;33m     \u001b[0marrays\u001b[0m \u001b[1;33m=\u001b[0m \u001b[1;33m[\u001b[0m\u001b[0masanyarray\u001b[0m\u001b[1;33m(\u001b[0m\u001b[0marr\u001b[0m\u001b[1;33m)\u001b[0m \u001b[1;32mfor\u001b[0m \u001b[0marr\u001b[0m \u001b[1;32min\u001b[0m \u001b[0marrays\u001b[0m\u001b[1;33m]\u001b[0m\u001b[1;33m\u001b[0m\u001b[1;33m\u001b[0m\u001b[0m\n\u001b[0m\u001b[0;32m    459\u001b[0m     \u001b[1;32mif\u001b[0m \u001b[1;32mnot\u001b[0m \u001b[0marrays\u001b[0m\u001b[1;33m:\u001b[0m\u001b[1;33m\u001b[0m\u001b[1;33m\u001b[0m\u001b[0m\n\u001b[0;32m    460\u001b[0m         \u001b[1;32mraise\u001b[0m \u001b[0mValueError\u001b[0m\u001b[1;33m(\u001b[0m\u001b[1;34m'need at least one array to stack'\u001b[0m\u001b[1;33m)\u001b[0m\u001b[1;33m\u001b[0m\u001b[1;33m\u001b[0m\u001b[0m\n",
      "\u001b[1;31mValueError\u001b[0m: setting an array element with a sequence. The requested array has an inhomogeneous shape after 1 dimensions. The detected shape was (2,) + inhomogeneous part."
     ]
    }
   ],
   "source": [
    "np.stack(a)"
   ]
  },
  {
   "cell_type": "code",
   "execution_count": 55,
   "metadata": {},
   "outputs": [
    {
     "data": {
      "text/plain": [
       "(5, 2)"
      ]
     },
     "execution_count": 55,
     "metadata": {},
     "output_type": "execute_result"
    }
   ],
   "source": [
    "np.stack(a).shape"
   ]
  },
  {
   "cell_type": "code",
   "execution_count": 56,
   "metadata": {},
   "outputs": [
    {
     "ename": "TypeError",
     "evalue": "cat(): argument 'tensors' (position 1) must be tuple of Tensors, not Tensor",
     "output_type": "error",
     "traceback": [
      "\u001b[1;31m---------------------------------------------------------------------------\u001b[0m",
      "\u001b[1;31mTypeError\u001b[0m                                 Traceback (most recent call last)",
      "\u001b[1;32m<ipython-input-56-2c7a35f31c97>\u001b[0m in \u001b[0;36m<module>\u001b[1;34m\u001b[0m\n\u001b[1;32m----> 1\u001b[1;33m \u001b[0mtorch\u001b[0m\u001b[1;33m.\u001b[0m\u001b[0mcat\u001b[0m\u001b[1;33m(\u001b[0m\u001b[0mtorch\u001b[0m\u001b[1;33m.\u001b[0m\u001b[0mtensor\u001b[0m\u001b[1;33m(\u001b[0m\u001b[0ma\u001b[0m\u001b[1;33m)\u001b[0m\u001b[1;33m)\u001b[0m\u001b[1;33m.\u001b[0m\u001b[0mshape\u001b[0m\u001b[1;33m\u001b[0m\u001b[1;33m\u001b[0m\u001b[0m\n\u001b[0m",
      "\u001b[1;31mTypeError\u001b[0m: cat(): argument 'tensors' (position 1) must be tuple of Tensors, not Tensor"
     ]
    }
   ],
   "source": [
    "torch.cat(torch.tensor(a)).shape"
   ]
  },
  {
   "cell_type": "code",
   "execution_count": 40,
   "metadata": {},
   "outputs": [
    {
     "data": {
      "text/plain": [
       "torch.Size([50, 3, 32, 32])"
      ]
     },
     "execution_count": 40,
     "metadata": {},
     "output_type": "execute_result"
    }
   ],
   "source": [
    "torch.cat(tuple(torch.tensor(np.stack(a)))).shape"
   ]
  },
  {
   "cell_type": "code",
   "execution_count": 31,
   "metadata": {},
   "outputs": [
    {
     "data": {
      "text/plain": [
       "array([1, 2, 3, 1, 2, 3, 1, 2, 3, 1, 2, 3])"
      ]
     },
     "execution_count": 31,
     "metadata": {},
     "output_type": "execute_result"
    }
   ],
   "source": [
    "a = []\n",
    "a.append([1,2,3])\n",
    "a.append([1,2,3])\n",
    "a.append([1,2,3])\n",
    "a.append([1,2,3])\n",
    "np.concatenate(a)"
   ]
  },
  {
   "cell_type": "code",
   "execution_count": null,
   "metadata": {},
   "outputs": [],
   "source": []
  },
  {
   "cell_type": "code",
   "execution_count": null,
   "metadata": {},
   "outputs": [],
   "source": []
  },
  {
   "cell_type": "code",
   "execution_count": null,
   "metadata": {},
   "outputs": [],
   "source": []
  },
  {
   "cell_type": "code",
   "execution_count": null,
   "metadata": {},
   "outputs": [],
   "source": []
  },
  {
   "cell_type": "code",
   "execution_count": null,
   "metadata": {},
   "outputs": [],
   "source": []
  },
  {
   "cell_type": "code",
   "execution_count": null,
   "metadata": {},
   "outputs": [],
   "source": []
  },
  {
   "cell_type": "code",
   "execution_count": null,
   "metadata": {},
   "outputs": [],
   "source": []
  }
 ],
 "metadata": {
  "kernelspec": {
   "display_name": "Python 3",
   "language": "python",
   "name": "python3"
  },
  "language_info": {
   "codemirror_mode": {
    "name": "ipython",
    "version": 3
   },
   "file_extension": ".py",
   "mimetype": "text/x-python",
   "name": "python",
   "nbconvert_exporter": "python",
   "pygments_lexer": "ipython3",
   "version": "3.8.10"
  },
  "orig_nbformat": 4
 },
 "nbformat": 4,
 "nbformat_minor": 2
}
