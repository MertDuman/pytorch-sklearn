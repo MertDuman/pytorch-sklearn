{
 "cells": [
  {
   "cell_type": "code",
   "execution_count": 1,
   "metadata": {},
   "outputs": [],
   "source": [
    "import torch\n",
    "import torch.nn as nn\n",
    "import torch.nn.functional as F\n",
    "\n",
    "import matplotlib.pyplot as plt\n",
    "\n",
    "from pytorch_sklearn.neural_network.neural_network import NeuralNetwork\n",
    "from pytorch_sklearn.callbacks.predefined import Verbose, History, EarlyStopping\n",
    "from pytorch_sklearn.utils.progress_bar import print_progress"
   ]
  },
  {
   "cell_type": "code",
   "execution_count": 2,
   "metadata": {},
   "outputs": [],
   "source": [
    "class SimpleCNN(nn.Module):\n",
    "    def __init__(self):\n",
    "        super(SimpleCNN, self).__init__()\n",
    "        self.conv1 = nn.Conv2d(3, 32, kernel_size=3, padding=1)\n",
    "        self.conv2 = nn.Conv2d(32, 32, kernel_size=3, padding=1)\n",
    "        self.conv3 = nn.Conv2d(32, 3, kernel_size=3, padding=1)\n",
    "\n",
    "    def forward(self, x):\n",
    "        x = F.relu(self.conv1(x))\n",
    "        x = F.relu(self.conv2(x))\n",
    "        return self.conv3(x)"
   ]
  },
  {
   "cell_type": "code",
   "execution_count": 3,
   "metadata": {},
   "outputs": [],
   "source": [
    "model = SimpleCNN()\n",
    "optim = torch.optim.Adam(model.parameters(), lr=0.001)\n",
    "crit = nn.MSELoss()"
   ]
  },
  {
   "cell_type": "code",
   "execution_count": 4,
   "metadata": {},
   "outputs": [],
   "source": [
    "X = torch.randn(10, 3, 32, 32)\n",
    "y = torch.randn(10, 3, 32, 32)"
   ]
  },
  {
   "cell_type": "code",
   "execution_count": 5,
   "metadata": {},
   "outputs": [],
   "source": [
    "net = NeuralNetwork(model, optim, crit)"
   ]
  },
  {
   "cell_type": "code",
   "execution_count": 6,
   "metadata": {},
   "outputs": [
    {
     "name": "stdout",
     "output_type": "stream",
     "text": [
      "Epoch 1/50\n",
      "1/1 [====================] - train_loss: 1.013 - train_l1loss: 0.805 - train_l2loss: 1.013 - Time: 0.31 - ETA: 0.00\n",
      "Epoch 2/50\n",
      "1/1 [====================] - train_loss: 1.003 - train_l1loss: 0.800 - train_l2loss: 1.003 - Time: 0.00 - ETA: 0.00\n",
      "Epoch 3/50\n",
      "1/1 [====================] - train_loss: 1.001 - train_l1loss: 0.799 - train_l2loss: 1.001 - Time: 0.00 - ETA: 0.00\n",
      "Epoch 4/50\n",
      "1/1 [====================] - train_loss: 1.000 - train_l1loss: 0.799 - train_l2loss: 1.000 - Time: 0.00 - ETA: 0.00\n",
      "Epoch 5/50\n",
      "1/1 [====================] - train_loss: 0.999 - train_l1loss: 0.798 - train_l2loss: 0.999 - Time: 0.00 - ETA: 0.00\n",
      "Epoch 6/50\n",
      "1/1 [====================] - train_loss: 0.998 - train_l1loss: 0.798 - train_l2loss: 0.998 - Time: 0.00 - ETA: 0.00\n",
      "Epoch 7/50\n",
      "1/1 [====================] - train_loss: 0.996 - train_l1loss: 0.797 - train_l2loss: 0.996 - Time: 0.00 - ETA: 0.00\n",
      "Epoch 8/50\n",
      "1/1 [====================] - train_loss: 0.995 - train_l1loss: 0.797 - train_l2loss: 0.995 - Time: 0.00 - ETA: 0.00\n",
      "Epoch 9/50\n",
      "1/1 [====================] - train_loss: 0.995 - train_l1loss: 0.797 - train_l2loss: 0.995 - Time: 0.00 - ETA: 0.00\n",
      "Epoch 10/50\n",
      "1/1 [====================] - train_loss: 0.994 - train_l1loss: 0.796 - train_l2loss: 0.994 - Time: 0.00 - ETA: 0.00\n",
      "Epoch 11/50\n",
      "1/1 [====================] - train_loss: 0.993 - train_l1loss: 0.796 - train_l2loss: 0.993 - Time: 0.00 - ETA: 0.00\n",
      "Epoch 12/50\n",
      "1/1 [====================] - train_loss: 0.993 - train_l1loss: 0.796 - train_l2loss: 0.993 - Time: 0.00 - ETA: 0.00\n",
      "Epoch 13/50\n",
      "1/1 [====================] - train_loss: 0.992 - train_l1loss: 0.796 - train_l2loss: 0.992 - Time: 0.00 - ETA: 0.00\n",
      "Epoch 14/50\n",
      "1/1 [====================] - train_loss: 0.992 - train_l1loss: 0.796 - train_l2loss: 0.992 - Time: 0.00 - ETA: 0.00\n",
      "Epoch 15/50\n",
      "1/1 [====================] - train_loss: 0.991 - train_l1loss: 0.795 - train_l2loss: 0.991 - Time: 0.00 - ETA: 0.00\n",
      "Epoch 16/50\n",
      "1/1 [====================] - train_loss: 0.991 - train_l1loss: 0.795 - train_l2loss: 0.991 - Time: 0.00 - ETA: 0.00\n",
      "Epoch 17/50\n",
      "1/1 [====================] - train_loss: 0.990 - train_l1loss: 0.795 - train_l2loss: 0.990 - Time: 0.00 - ETA: 0.00\n",
      "Epoch 18/50\n",
      "1/1 [====================] - train_loss: 0.989 - train_l1loss: 0.794 - train_l2loss: 0.989 - Time: 0.00 - ETA: 0.00\n",
      "Epoch 19/50\n",
      "1/1 [====================] - train_loss: 0.988 - train_l1loss: 0.794 - train_l2loss: 0.988 - Time: 0.00 - ETA: 0.00\n",
      "Epoch 20/50\n",
      "1/1 [====================] - train_loss: 0.988 - train_l1loss: 0.794 - train_l2loss: 0.988 - Time: 0.00 - ETA: 0.00\n",
      "Epoch 21/50\n",
      "1/1 [====================] - train_loss: 0.987 - train_l1loss: 0.793 - train_l2loss: 0.987 - Time: 0.00 - ETA: 0.00\n",
      "Epoch 22/50\n",
      "1/1 [====================] - train_loss: 0.986 - train_l1loss: 0.793 - train_l2loss: 0.986 - Time: 0.00 - ETA: 0.00\n",
      "Epoch 23/50\n",
      "1/1 [====================] - train_loss: 0.985 - train_l1loss: 0.793 - train_l2loss: 0.985 - Time: 0.00 - ETA: 0.00\n",
      "Epoch 24/50\n",
      "1/1 [====================] - train_loss: 0.985 - train_l1loss: 0.793 - train_l2loss: 0.985 - Time: 0.00 - ETA: 0.00\n",
      "Epoch 25/50\n",
      "1/1 [====================] - train_loss: 0.984 - train_l1loss: 0.792 - train_l2loss: 0.984 - Time: 0.00 - ETA: 0.00\n",
      "Epoch 26/50\n",
      "1/1 [====================] - train_loss: 0.983 - train_l1loss: 0.792 - train_l2loss: 0.983 - Time: 0.00 - ETA: 0.00\n",
      "Epoch 27/50\n",
      "1/1 [====================] - train_loss: 0.982 - train_l1loss: 0.792 - train_l2loss: 0.982 - Time: 0.00 - ETA: 0.00\n",
      "Epoch 28/50\n",
      "1/1 [====================] - train_loss: 0.981 - train_l1loss: 0.791 - train_l2loss: 0.981 - Time: 0.00 - ETA: 0.00\n",
      "Epoch 29/50\n",
      "1/1 [====================] - train_loss: 0.980 - train_l1loss: 0.791 - train_l2loss: 0.980 - Time: 0.00 - ETA: 0.00\n",
      "Epoch 30/50\n",
      "1/1 [====================] - train_loss: 0.980 - train_l1loss: 0.791 - train_l2loss: 0.980 - Time: 0.00 - ETA: 0.00\n",
      "Epoch 31/50\n",
      "1/1 [====================] - train_loss: 0.979 - train_l1loss: 0.790 - train_l2loss: 0.979 - Time: 0.00 - ETA: 0.00\n",
      "Epoch 32/50\n",
      "1/1 [====================] - train_loss: 0.978 - train_l1loss: 0.790 - train_l2loss: 0.978 - Time: 0.00 - ETA: 0.00\n",
      "Epoch 33/50\n",
      "1/1 [====================] - train_loss: 0.977 - train_l1loss: 0.790 - train_l2loss: 0.977 - Time: 0.00 - ETA: 0.00\n",
      "Epoch 34/50\n",
      "1/1 [====================] - train_loss: 0.976 - train_l1loss: 0.789 - train_l2loss: 0.976 - Time: 0.00 - ETA: 0.00\n",
      "Epoch 35/50\n",
      "1/1 [====================] - train_loss: 0.975 - train_l1loss: 0.789 - train_l2loss: 0.975 - Time: 0.00 - ETA: 0.00\n",
      "Epoch 36/50\n",
      "1/1 [====================] - train_loss: 0.974 - train_l1loss: 0.788 - train_l2loss: 0.974 - Time: 0.00 - ETA: 0.00\n",
      "Epoch 37/50\n",
      "1/1 [====================] - train_loss: 0.973 - train_l1loss: 0.788 - train_l2loss: 0.973 - Time: 0.00 - ETA: 0.00\n",
      "Epoch 38/50\n",
      "1/1 [====================] - train_loss: 0.971 - train_l1loss: 0.788 - train_l2loss: 0.971 - Time: 0.00 - ETA: 0.00\n",
      "Epoch 39/50\n",
      "1/1 [====================] - train_loss: 0.970 - train_l1loss: 0.787 - train_l2loss: 0.970 - Time: 0.00 - ETA: 0.00\n",
      "Epoch 40/50\n",
      "1/1 [====================] - train_loss: 0.969 - train_l1loss: 0.787 - train_l2loss: 0.969 - Time: 0.00 - ETA: 0.00\n",
      "Epoch 41/50\n",
      "1/1 [====================] - train_loss: 0.968 - train_l1loss: 0.786 - train_l2loss: 0.968 - Time: 0.00 - ETA: 0.00\n",
      "Epoch 42/50\n",
      "1/1 [====================] - train_loss: 0.967 - train_l1loss: 0.786 - train_l2loss: 0.967 - Time: 0.00 - ETA: 0.00\n",
      "Epoch 43/50\n",
      "1/1 [====================] - train_loss: 0.965 - train_l1loss: 0.785 - train_l2loss: 0.965 - Time: 0.00 - ETA: 0.00\n",
      "Epoch 44/50\n",
      "1/1 [====================] - train_loss: 0.964 - train_l1loss: 0.785 - train_l2loss: 0.964 - Time: 0.00 - ETA: 0.00\n",
      "Epoch 45/50\n",
      "1/1 [====================] - train_loss: 0.963 - train_l1loss: 0.784 - train_l2loss: 0.963 - Time: 0.00 - ETA: 0.00\n",
      "Epoch 46/50\n",
      "1/1 [====================] - train_loss: 0.961 - train_l1loss: 0.784 - train_l2loss: 0.961 - Time: 0.00 - ETA: 0.00\n",
      "Epoch 47/50\n",
      "1/1 [====================] - train_loss: 0.960 - train_l1loss: 0.783 - train_l2loss: 0.960 - Time: 0.00 - ETA: 0.00\n",
      "Epoch 48/50\n",
      "1/1 [====================] - train_loss: 0.958 - train_l1loss: 0.782 - train_l2loss: 0.958 - Time: 0.00 - ETA: 0.00\n",
      "Epoch 49/50\n",
      "1/1 [====================] - train_loss: 0.957 - train_l1loss: 0.782 - train_l2loss: 0.957 - Time: 0.00 - ETA: 0.00\n",
      "Epoch 50/50\n",
      "1/1 [====================] - train_loss: 0.955 - train_l1loss: 0.781 - train_l2loss: 0.955 - Time: 0.00 - ETA: 0.00\n"
     ]
    }
   ],
   "source": [
    "net.fit(\n",
    "    train_X=X,\n",
    "    train_y=y,\n",
    "    max_epochs=50,\n",
    "    callbacks=[Verbose(notebook=True)],\n",
    "    metrics={'l1loss': nn.L1Loss(), 'l2loss': nn.MSELoss()},\n",
    ")"
   ]
  },
  {
   "cell_type": "code",
   "execution_count": null,
   "metadata": {},
   "outputs": [],
   "source": []
  }
 ],
 "metadata": {
  "kernelspec": {
   "display_name": "Python 3",
   "language": "python",
   "name": "python3"
  },
  "language_info": {
   "codemirror_mode": {
    "name": "ipython",
    "version": 3
   },
   "file_extension": ".py",
   "mimetype": "text/x-python",
   "name": "python",
   "nbconvert_exporter": "python",
   "pygments_lexer": "ipython3",
   "version": "3.8.10"
  },
  "orig_nbformat": 4
 },
 "nbformat": 4,
 "nbformat_minor": 2
}
